{
 "cells": [
  {
   "cell_type": "markdown",
   "metadata": {},
   "source": [
    "# Stock Market Analysis"
   ]
  },
  {
   "cell_type": "markdown",
   "metadata": {},
   "source": [
    "### Problem Link : https://www.kaggle.com/daiearth22/uniqlo-fastretailing-stock-price-prediction/data"
   ]
  },
  {
   "cell_type": "markdown",
   "metadata": {},
   "source": [
    "#### Necessary Import Statements"
   ]
  },
  {
   "cell_type": "code",
   "execution_count": 1,
   "metadata": {
    "collapsed": true
   },
   "outputs": [],
   "source": [
    "import pandas as pd\n",
    "import numpy as np\n",
    "%matplotlib inline\n",
    "from matplotlib import pyplot as plt\n",
    "from pandas import Series\n",
    "from pandas import DataFrame\n",
    "from pandas import concat\n",
    "\n",
    "# Train test split\n",
    "from sklearn.model_selection import TimeSeriesSplit\n",
    "\n",
    "\n",
    "# Models\n",
    "from sklearn.svm import LinearSVC\n",
    "from sklearn.ensemble import RandomForestClassifier, RandomForestRegressor\n",
    "\n",
    "# Model evaluators\n",
    "from sklearn.metrics import f1_score,confusion_matrix"
   ]
  },
  {
   "cell_type": "markdown",
   "metadata": {},
   "source": [
    "### Reading the Train Data"
   ]
  },
  {
   "cell_type": "code",
   "execution_count": 2,
   "metadata": {},
   "outputs": [
    {
     "name": "stdout",
     "output_type": "stream",
     "text": [
      "<class 'pandas.core.frame.DataFrame'>\n",
      "RangeIndex: 1226 entries, 0 to 1225\n",
      "Data columns (total 7 columns):\n",
      "Date             1226 non-null object\n",
      "Open             1226 non-null int64\n",
      "High             1226 non-null int64\n",
      "Low              1226 non-null int64\n",
      "Close            1226 non-null int64\n",
      "Volume           1226 non-null int64\n",
      "Stock Trading    1226 non-null int64\n",
      "dtypes: int64(6), object(1)\n",
      "memory usage: 67.1+ KB\n"
     ]
    }
   ],
   "source": [
    "train = pd.read_csv(\"train.csv\")\n",
    "train.info()"
   ]
  },
  {
   "cell_type": "code",
   "execution_count": 3,
   "metadata": {},
   "outputs": [
    {
     "data": {
      "text/html": [
       "<div>\n",
       "<style>\n",
       "    .dataframe thead tr:only-child th {\n",
       "        text-align: right;\n",
       "    }\n",
       "\n",
       "    .dataframe thead th {\n",
       "        text-align: left;\n",
       "    }\n",
       "\n",
       "    .dataframe tbody tr th {\n",
       "        vertical-align: top;\n",
       "    }\n",
       "</style>\n",
       "<table border=\"1\" class=\"dataframe\">\n",
       "  <thead>\n",
       "    <tr style=\"text-align: right;\">\n",
       "      <th></th>\n",
       "      <th>Date</th>\n",
       "      <th>Open</th>\n",
       "      <th>High</th>\n",
       "      <th>Low</th>\n",
       "      <th>Close</th>\n",
       "      <th>Volume</th>\n",
       "      <th>Stock Trading</th>\n",
       "    </tr>\n",
       "  </thead>\n",
       "  <tbody>\n",
       "    <tr>\n",
       "      <th>0</th>\n",
       "      <td>2016-12-30</td>\n",
       "      <td>42120</td>\n",
       "      <td>42330</td>\n",
       "      <td>41700</td>\n",
       "      <td>41830</td>\n",
       "      <td>610000</td>\n",
       "      <td>25628028000</td>\n",
       "    </tr>\n",
       "    <tr>\n",
       "      <th>1</th>\n",
       "      <td>2016-12-29</td>\n",
       "      <td>43000</td>\n",
       "      <td>43220</td>\n",
       "      <td>42540</td>\n",
       "      <td>42660</td>\n",
       "      <td>448400</td>\n",
       "      <td>19188227000</td>\n",
       "    </tr>\n",
       "    <tr>\n",
       "      <th>2</th>\n",
       "      <td>2016-12-28</td>\n",
       "      <td>43940</td>\n",
       "      <td>43970</td>\n",
       "      <td>43270</td>\n",
       "      <td>43270</td>\n",
       "      <td>339900</td>\n",
       "      <td>14780670000</td>\n",
       "    </tr>\n",
       "    <tr>\n",
       "      <th>3</th>\n",
       "      <td>2016-12-27</td>\n",
       "      <td>43140</td>\n",
       "      <td>43700</td>\n",
       "      <td>43140</td>\n",
       "      <td>43620</td>\n",
       "      <td>400100</td>\n",
       "      <td>17427993000</td>\n",
       "    </tr>\n",
       "    <tr>\n",
       "      <th>4</th>\n",
       "      <td>2016-12-26</td>\n",
       "      <td>43310</td>\n",
       "      <td>43660</td>\n",
       "      <td>43090</td>\n",
       "      <td>43340</td>\n",
       "      <td>358200</td>\n",
       "      <td>15547803000</td>\n",
       "    </tr>\n",
       "  </tbody>\n",
       "</table>\n",
       "</div>"
      ],
      "text/plain": [
       "         Date   Open   High    Low  Close  Volume  Stock Trading\n",
       "0  2016-12-30  42120  42330  41700  41830  610000    25628028000\n",
       "1  2016-12-29  43000  43220  42540  42660  448400    19188227000\n",
       "2  2016-12-28  43940  43970  43270  43270  339900    14780670000\n",
       "3  2016-12-27  43140  43700  43140  43620  400100    17427993000\n",
       "4  2016-12-26  43310  43660  43090  43340  358200    15547803000"
      ]
     },
     "execution_count": 3,
     "metadata": {},
     "output_type": "execute_result"
    }
   ],
   "source": [
    "train.head()"
   ]
  },
  {
   "cell_type": "code",
   "execution_count": 4,
   "metadata": {},
   "outputs": [
    {
     "data": {
      "text/html": [
       "<div>\n",
       "<style>\n",
       "    .dataframe thead tr:only-child th {\n",
       "        text-align: right;\n",
       "    }\n",
       "\n",
       "    .dataframe thead th {\n",
       "        text-align: left;\n",
       "    }\n",
       "\n",
       "    .dataframe tbody tr th {\n",
       "        vertical-align: top;\n",
       "    }\n",
       "</style>\n",
       "<table border=\"1\" class=\"dataframe\">\n",
       "  <thead>\n",
       "    <tr style=\"text-align: right;\">\n",
       "      <th></th>\n",
       "      <th>Open</th>\n",
       "      <th>High</th>\n",
       "      <th>Low</th>\n",
       "      <th>Close</th>\n",
       "      <th>Volume</th>\n",
       "      <th>Stock Trading</th>\n",
       "    </tr>\n",
       "  </thead>\n",
       "  <tbody>\n",
       "    <tr>\n",
       "      <th>count</th>\n",
       "      <td>1226.000000</td>\n",
       "      <td>1226.000000</td>\n",
       "      <td>1226.000000</td>\n",
       "      <td>1226.000000</td>\n",
       "      <td>1.226000e+03</td>\n",
       "      <td>1.226000e+03</td>\n",
       "    </tr>\n",
       "    <tr>\n",
       "      <th>mean</th>\n",
       "      <td>33754.416803</td>\n",
       "      <td>34178.784666</td>\n",
       "      <td>33347.903752</td>\n",
       "      <td>33760.583197</td>\n",
       "      <td>7.275556e+05</td>\n",
       "      <td>2.440933e+10</td>\n",
       "    </tr>\n",
       "    <tr>\n",
       "      <th>std</th>\n",
       "      <td>10813.440409</td>\n",
       "      <td>10936.326802</td>\n",
       "      <td>10695.664102</td>\n",
       "      <td>10815.661389</td>\n",
       "      <td>4.137178e+05</td>\n",
       "      <td>1.526300e+10</td>\n",
       "    </tr>\n",
       "    <tr>\n",
       "      <th>min</th>\n",
       "      <td>13720.000000</td>\n",
       "      <td>13840.000000</td>\n",
       "      <td>13600.000000</td>\n",
       "      <td>13720.000000</td>\n",
       "      <td>1.391000e+05</td>\n",
       "      <td>3.966140e+09</td>\n",
       "    </tr>\n",
       "    <tr>\n",
       "      <th>25%</th>\n",
       "      <td>27788.750000</td>\n",
       "      <td>28091.250000</td>\n",
       "      <td>27401.250000</td>\n",
       "      <td>27675.000000</td>\n",
       "      <td>4.873000e+05</td>\n",
       "      <td>1.454097e+10</td>\n",
       "    </tr>\n",
       "    <tr>\n",
       "      <th>50%</th>\n",
       "      <td>34445.000000</td>\n",
       "      <td>34835.000000</td>\n",
       "      <td>33925.000000</td>\n",
       "      <td>34412.500000</td>\n",
       "      <td>6.260000e+05</td>\n",
       "      <td>2.153772e+10</td>\n",
       "    </tr>\n",
       "    <tr>\n",
       "      <th>75%</th>\n",
       "      <td>41412.500000</td>\n",
       "      <td>41900.000000</td>\n",
       "      <td>40810.000000</td>\n",
       "      <td>41365.000000</td>\n",
       "      <td>8.267000e+05</td>\n",
       "      <td>3.015922e+10</td>\n",
       "    </tr>\n",
       "    <tr>\n",
       "      <th>max</th>\n",
       "      <td>61550.000000</td>\n",
       "      <td>61970.000000</td>\n",
       "      <td>60740.000000</td>\n",
       "      <td>61930.000000</td>\n",
       "      <td>4.937300e+06</td>\n",
       "      <td>1.460450e+11</td>\n",
       "    </tr>\n",
       "  </tbody>\n",
       "</table>\n",
       "</div>"
      ],
      "text/plain": [
       "               Open          High           Low         Close        Volume  \\\n",
       "count   1226.000000   1226.000000   1226.000000   1226.000000  1.226000e+03   \n",
       "mean   33754.416803  34178.784666  33347.903752  33760.583197  7.275556e+05   \n",
       "std    10813.440409  10936.326802  10695.664102  10815.661389  4.137178e+05   \n",
       "min    13720.000000  13840.000000  13600.000000  13720.000000  1.391000e+05   \n",
       "25%    27788.750000  28091.250000  27401.250000  27675.000000  4.873000e+05   \n",
       "50%    34445.000000  34835.000000  33925.000000  34412.500000  6.260000e+05   \n",
       "75%    41412.500000  41900.000000  40810.000000  41365.000000  8.267000e+05   \n",
       "max    61550.000000  61970.000000  60740.000000  61930.000000  4.937300e+06   \n",
       "\n",
       "       Stock Trading  \n",
       "count   1.226000e+03  \n",
       "mean    2.440933e+10  \n",
       "std     1.526300e+10  \n",
       "min     3.966140e+09  \n",
       "25%     1.454097e+10  \n",
       "50%     2.153772e+10  \n",
       "75%     3.015922e+10  \n",
       "max     1.460450e+11  "
      ]
     },
     "execution_count": 4,
     "metadata": {},
     "output_type": "execute_result"
    }
   ],
   "source": [
    "train.describe()"
   ]
  },
  {
   "cell_type": "code",
   "execution_count": 5,
   "metadata": {
    "scrolled": true
   },
   "outputs": [
    {
     "data": {
      "text/plain": [
       "<matplotlib.axes._subplots.AxesSubplot at 0x1c07d8502b0>"
      ]
     },
     "execution_count": 5,
     "metadata": {},
     "output_type": "execute_result"
    },
    {
     "data": {
      "image/png": "[encoded data removed]",
      "text/plain": [
       "<matplotlib.figure.Figure at 0x1c079b40908>"
      ]
     },
     "metadata": {},
     "output_type": "display_data"
    }
   ],
   "source": [
    "train['Open'].plot(color='k')"
   ]
  },
  {
   "cell_type": "code",
   "execution_count": 6,
   "metadata": {},
   "outputs": [
    {
     "data": {
      "text/html": [
       "<div>\n",
       "<style>\n",
       "    .dataframe thead tr:only-child th {\n",
       "        text-align: right;\n",
       "    }\n",
       "\n",
       "    .dataframe thead th {\n",
       "        text-align: left;\n",
       "    }\n",
       "\n",
       "    .dataframe tbody tr th {\n",
       "        vertical-align: top;\n",
       "    }\n",
       "</style>\n",
       "<table border=\"1\" class=\"dataframe\">\n",
       "  <thead>\n",
       "    <tr style=\"text-align: right;\">\n",
       "      <th></th>\n",
       "      <th>Date</th>\n",
       "      <th>Open</th>\n",
       "      <th>High</th>\n",
       "      <th>Low</th>\n",
       "      <th>Close</th>\n",
       "      <th>Volume</th>\n",
       "      <th>Stock Trading</th>\n",
       "    </tr>\n",
       "  </thead>\n",
       "  <tbody>\n",
       "    <tr>\n",
       "      <th>0</th>\n",
       "      <td>2016-12-30</td>\n",
       "      <td>42120</td>\n",
       "      <td>42330</td>\n",
       "      <td>41700</td>\n",
       "      <td>41830</td>\n",
       "      <td>610000</td>\n",
       "      <td>25628028000</td>\n",
       "    </tr>\n",
       "    <tr>\n",
       "      <th>1</th>\n",
       "      <td>2016-12-29</td>\n",
       "      <td>43000</td>\n",
       "      <td>43220</td>\n",
       "      <td>42540</td>\n",
       "      <td>42660</td>\n",
       "      <td>448400</td>\n",
       "      <td>19188227000</td>\n",
       "    </tr>\n",
       "    <tr>\n",
       "      <th>2</th>\n",
       "      <td>2016-12-28</td>\n",
       "      <td>43940</td>\n",
       "      <td>43970</td>\n",
       "      <td>43270</td>\n",
       "      <td>43270</td>\n",
       "      <td>339900</td>\n",
       "      <td>14780670000</td>\n",
       "    </tr>\n",
       "    <tr>\n",
       "      <th>3</th>\n",
       "      <td>2016-12-27</td>\n",
       "      <td>43140</td>\n",
       "      <td>43700</td>\n",
       "      <td>43140</td>\n",
       "      <td>43620</td>\n",
       "      <td>400100</td>\n",
       "      <td>17427993000</td>\n",
       "    </tr>\n",
       "    <tr>\n",
       "      <th>4</th>\n",
       "      <td>2016-12-26</td>\n",
       "      <td>43310</td>\n",
       "      <td>43660</td>\n",
       "      <td>43090</td>\n",
       "      <td>43340</td>\n",
       "      <td>358200</td>\n",
       "      <td>15547803000</td>\n",
       "    </tr>\n",
       "  </tbody>\n",
       "</table>\n",
       "</div>"
      ],
      "text/plain": [
       "         Date   Open   High    Low  Close  Volume  Stock Trading\n",
       "0  2016-12-30  42120  42330  41700  41830  610000    25628028000\n",
       "1  2016-12-29  43000  43220  42540  42660  448400    19188227000\n",
       "2  2016-12-28  43940  43970  43270  43270  339900    14780670000\n",
       "3  2016-12-27  43140  43700  43140  43620  400100    17427993000\n",
       "4  2016-12-26  43310  43660  43090  43340  358200    15547803000"
      ]
     },
     "execution_count": 6,
     "metadata": {},
     "output_type": "execute_result"
    }
   ],
   "source": [
    " train.head()"
   ]
  },
  {
   "cell_type": "markdown",
   "metadata": {},
   "source": [
    "Seperating the DateTime field to data, month and year into different columns."
   ]
  },
  {
   "cell_type": "code",
   "execution_count": 7,
   "metadata": {
    "collapsed": true
   },
   "outputs": [],
   "source": [
    "train['Year'] = pd.DatetimeIndex(train['Date']).year\n",
    "train['Month'] = pd.DatetimeIndex(train['Date']).month\n",
    "train['Day'] = pd.DatetimeIndex(train['Date']).day"
   ]
  },
  {
   "cell_type": "code",
   "execution_count": 8,
   "metadata": {},
   "outputs": [
    {
     "data": {
      "text/html": [
       "<div>\n",
       "<style>\n",
       "    .dataframe thead tr:only-child th {\n",
       "        text-align: right;\n",
       "    }\n",
       "\n",
       "    .dataframe thead th {\n",
       "        text-align: left;\n",
       "    }\n",
       "\n",
       "    .dataframe tbody tr th {\n",
       "        vertical-align: top;\n",
       "    }\n",
       "</style>\n",
       "<table border=\"1\" class=\"dataframe\">\n",
       "  <thead>\n",
       "    <tr style=\"text-align: right;\">\n",
       "      <th></th>\n",
       "      <th>Date</th>\n",
       "      <th>Open</th>\n",
       "      <th>High</th>\n",
       "      <th>Low</th>\n",
       "      <th>Close</th>\n",
       "      <th>Volume</th>\n",
       "      <th>Stock Trading</th>\n",
       "      <th>Year</th>\n",
       "      <th>Month</th>\n",
       "      <th>Day</th>\n",
       "    </tr>\n",
       "  </thead>\n",
       "  <tbody>\n",
       "    <tr>\n",
       "      <th>0</th>\n",
       "      <td>2016-12-30</td>\n",
       "      <td>42120</td>\n",
       "      <td>42330</td>\n",
       "      <td>41700</td>\n",
       "      <td>41830</td>\n",
       "      <td>610000</td>\n",
       "      <td>25628028000</td>\n",
       "      <td>2016</td>\n",
       "      <td>12</td>\n",
       "      <td>30</td>\n",
       "    </tr>\n",
       "    <tr>\n",
       "      <th>1</th>\n",
       "      <td>2016-12-29</td>\n",
       "      <td>43000</td>\n",
       "      <td>43220</td>\n",
       "      <td>42540</td>\n",
       "      <td>42660</td>\n",
       "      <td>448400</td>\n",
       "      <td>19188227000</td>\n",
       "      <td>2016</td>\n",
       "      <td>12</td>\n",
       "      <td>29</td>\n",
       "    </tr>\n",
       "    <tr>\n",
       "      <th>2</th>\n",
       "      <td>2016-12-28</td>\n",
       "      <td>43940</td>\n",
       "      <td>43970</td>\n",
       "      <td>43270</td>\n",
       "      <td>43270</td>\n",
       "      <td>339900</td>\n",
       "      <td>14780670000</td>\n",
       "      <td>2016</td>\n",
       "      <td>12</td>\n",
       "      <td>28</td>\n",
       "    </tr>\n",
       "    <tr>\n",
       "      <th>3</th>\n",
       "      <td>2016-12-27</td>\n",
       "      <td>43140</td>\n",
       "      <td>43700</td>\n",
       "      <td>43140</td>\n",
       "      <td>43620</td>\n",
       "      <td>400100</td>\n",
       "      <td>17427993000</td>\n",
       "      <td>2016</td>\n",
       "      <td>12</td>\n",
       "      <td>27</td>\n",
       "    </tr>\n",
       "    <tr>\n",
       "      <th>4</th>\n",
       "      <td>2016-12-26</td>\n",
       "      <td>43310</td>\n",
       "      <td>43660</td>\n",
       "      <td>43090</td>\n",
       "      <td>43340</td>\n",
       "      <td>358200</td>\n",
       "      <td>15547803000</td>\n",
       "      <td>2016</td>\n",
       "      <td>12</td>\n",
       "      <td>26</td>\n",
       "    </tr>\n",
       "  </tbody>\n",
       "</table>\n",
       "</div>"
      ],
      "text/plain": [
       "         Date   Open   High    Low  Close  Volume  Stock Trading  Year  Month  \\\n",
       "0  2016-12-30  42120  42330  41700  41830  610000    25628028000  2016     12   \n",
       "1  2016-12-29  43000  43220  42540  42660  448400    19188227000  2016     12   \n",
       "2  2016-12-28  43940  43970  43270  43270  339900    14780670000  2016     12   \n",
       "3  2016-12-27  43140  43700  43140  43620  400100    17427993000  2016     12   \n",
       "4  2016-12-26  43310  43660  43090  43340  358200    15547803000  2016     12   \n",
       "\n",
       "   Day  \n",
       "0   30  \n",
       "1   29  \n",
       "2   28  \n",
       "3   27  \n",
       "4   26  "
      ]
     },
     "execution_count": 8,
     "metadata": {},
     "output_type": "execute_result"
    }
   ],
   "source": [
    "train.head()"
   ]
  },
  {
   "cell_type": "markdown",
   "metadata": {},
   "source": [
    "Function for dropping of unnecesary features or redundant features"
   ]
  },
  {
   "cell_type": "code",
   "execution_count": 9,
   "metadata": {
    "collapsed": true
   },
   "outputs": [],
   "source": [
    "def drop_features(features,data):\n",
    "    data.drop(features,inplace=True,axis=1)"
   ]
  },
  {
   "cell_type": "code",
   "execution_count": 10,
   "metadata": {
    "collapsed": true
   },
   "outputs": [],
   "source": [
    "drop_features(['Date'],train)"
   ]
  },
  {
   "cell_type": "markdown",
   "metadata": {},
   "source": [
    "### Applying the TimeSeries Feature Engineering\n",
    "#### Lag Features"
   ]
  },
  {
   "cell_type": "code",
   "execution_count": 11,
   "metadata": {},
   "outputs": [
    {
     "data": {
      "text/plain": [
       "(1226, 3)"
      ]
     },
     "execution_count": 11,
     "metadata": {},
     "output_type": "execute_result"
    }
   ],
   "source": [
    "#Applying Lag Features to Opening Price\n",
    "open1 = Series(train['Open'])\n",
    "open_dataframe = concat([open1.shift(-3), open1.shift(-2), open1.shift(-1)], axis=1)\n",
    "open_dataframe.columns = ['O_t-3', 'O_t-2', 'O_t-1']\n",
    "open_dataframe.shape"
   ]
  },
  {
   "cell_type": "code",
   "execution_count": 12,
   "metadata": {},
   "outputs": [
    {
     "data": {
      "text/html": [
       "<div>\n",
       "<style>\n",
       "    .dataframe thead tr:only-child th {\n",
       "        text-align: right;\n",
       "    }\n",
       "\n",
       "    .dataframe thead th {\n",
       "        text-align: left;\n",
       "    }\n",
       "\n",
       "    .dataframe tbody tr th {\n",
       "        vertical-align: top;\n",
       "    }\n",
       "</style>\n",
       "<table border=\"1\" class=\"dataframe\">\n",
       "  <thead>\n",
       "    <tr style=\"text-align: right;\">\n",
       "      <th></th>\n",
       "      <th>O_t-3</th>\n",
       "      <th>O_t-2</th>\n",
       "      <th>O_t-1</th>\n",
       "    </tr>\n",
       "  </thead>\n",
       "  <tbody>\n",
       "    <tr>\n",
       "      <th>0</th>\n",
       "      <td>43140.0</td>\n",
       "      <td>43940.0</td>\n",
       "      <td>43000.0</td>\n",
       "    </tr>\n",
       "    <tr>\n",
       "      <th>1</th>\n",
       "      <td>43310.0</td>\n",
       "      <td>43140.0</td>\n",
       "      <td>43940.0</td>\n",
       "    </tr>\n",
       "    <tr>\n",
       "      <th>2</th>\n",
       "      <td>43660.0</td>\n",
       "      <td>43310.0</td>\n",
       "      <td>43140.0</td>\n",
       "    </tr>\n",
       "    <tr>\n",
       "      <th>3</th>\n",
       "      <td>43900.0</td>\n",
       "      <td>43660.0</td>\n",
       "      <td>43310.0</td>\n",
       "    </tr>\n",
       "    <tr>\n",
       "      <th>4</th>\n",
       "      <td>42910.0</td>\n",
       "      <td>43900.0</td>\n",
       "      <td>43660.0</td>\n",
       "    </tr>\n",
       "  </tbody>\n",
       "</table>\n",
       "</div>"
      ],
      "text/plain": [
       "     O_t-3    O_t-2    O_t-1\n",
       "0  43140.0  43940.0  43000.0\n",
       "1  43310.0  43140.0  43940.0\n",
       "2  43660.0  43310.0  43140.0\n",
       "3  43900.0  43660.0  43310.0\n",
       "4  42910.0  43900.0  43660.0"
      ]
     },
     "execution_count": 12,
     "metadata": {},
     "output_type": "execute_result"
    }
   ],
   "source": [
    "open_dataframe.head()"
   ]
  },
  {
   "cell_type": "code",
   "execution_count": 13,
   "metadata": {
    "collapsed": true
   },
   "outputs": [],
   "source": [
    "#combining the train data and the lag features of Temp\n",
    "train1 = pd.concat([train, open_dataframe], axis=1)"
   ]
  },
  {
   "cell_type": "code",
   "execution_count": 14,
   "metadata": {},
   "outputs": [
    {
     "data": {
      "text/html": [
       "<div>\n",
       "<style scoped>\n",
       "    .dataframe tbody tr th:only-of-type {\n",
       "        vertical-align: middle;\n",
       "    }\n",
       "\n",
       "    .dataframe tbody tr th {\n",
       "        vertical-align: top;\n",
       "    }\n",
       "\n",
       "    .dataframe thead th {\n",
       "        text-align: right;\n",
       "    }\n",
       "</style>\n",
       "<table border=\"1\" class=\"dataframe\">\n",
       "  <thead>\n",
       "    <tr style=\"text-align: right;\">\n",
       "      <th></th>\n",
       "      <th>Open</th>\n",
       "      <th>High</th>\n",
       "      <th>Low</th>\n",
       "      <th>Close</th>\n",
       "      <th>Volume</th>\n",
       "      <th>Stock Trading</th>\n",
       "      <th>Year</th>\n",
       "      <th>Month</th>\n",
       "      <th>Day</th>\n",
       "      <th>O_t-3</th>\n",
       "      <th>O_t-2</th>\n",
       "      <th>O_t-1</th>\n",
       "    </tr>\n",
       "  </thead>\n",
       "  <tbody>\n",
       "    <tr>\n",
       "      <th>0</th>\n",
       "      <td>42120</td>\n",
       "      <td>42330</td>\n",
       "      <td>41700</td>\n",
       "      <td>41830</td>\n",
       "      <td>610000</td>\n",
       "      <td>25628028000</td>\n",
       "      <td>2016</td>\n",
       "      <td>12</td>\n",
       "      <td>30</td>\n",
       "      <td>43140.0</td>\n",
       "      <td>43940.0</td>\n",
       "      <td>43000.0</td>\n",
       "    </tr>\n",
       "    <tr>\n",
       "      <th>1</th>\n",
       "      <td>43000</td>\n",
       "      <td>43220</td>\n",
       "      <td>42540</td>\n",
       "      <td>42660</td>\n",
       "      <td>448400</td>\n",
       "      <td>19188227000</td>\n",
       "      <td>2016</td>\n",
       "      <td>12</td>\n",
       "      <td>29</td>\n",
       "      <td>43310.0</td>\n",
       "      <td>43140.0</td>\n",
       "      <td>43940.0</td>\n",
       "    </tr>\n",
       "    <tr>\n",
       "      <th>2</th>\n",
       "      <td>43940</td>\n",
       "      <td>43970</td>\n",
       "      <td>43270</td>\n",
       "      <td>43270</td>\n",
       "      <td>339900</td>\n",
       "      <td>14780670000</td>\n",
       "      <td>2016</td>\n",
       "      <td>12</td>\n",
       "      <td>28</td>\n",
       "      <td>43660.0</td>\n",
       "      <td>43310.0</td>\n",
       "      <td>43140.0</td>\n",
       "    </tr>\n",
       "    <tr>\n",
       "      <th>3</th>\n",
       "      <td>43140</td>\n",
       "      <td>43700</td>\n",
       "      <td>43140</td>\n",
       "      <td>43620</td>\n",
       "      <td>400100</td>\n",
       "      <td>17427993000</td>\n",
       "      <td>2016</td>\n",
       "      <td>12</td>\n",
       "      <td>27</td>\n",
       "      <td>43900.0</td>\n",
       "      <td>43660.0</td>\n",
       "      <td>43310.0</td>\n",
       "    </tr>\n",
       "    <tr>\n",
       "      <th>4</th>\n",
       "      <td>43310</td>\n",
       "      <td>43660</td>\n",
       "      <td>43090</td>\n",
       "      <td>43340</td>\n",
       "      <td>358200</td>\n",
       "      <td>15547803000</td>\n",
       "      <td>2016</td>\n",
       "      <td>12</td>\n",
       "      <td>26</td>\n",
       "      <td>42910.0</td>\n",
       "      <td>43900.0</td>\n",
       "      <td>43660.0</td>\n",
       "    </tr>\n",
       "  </tbody>\n",
       "</table>\n",
       "</div>"
      ],
      "text/plain": [
       "    Open   High    Low  Close  Volume  Stock Trading  Year  Month  Day  \\\n",
       "0  42120  42330  41700  41830  610000    25628028000  2016     12   30   \n",
       "1  43000  43220  42540  42660  448400    19188227000  2016     12   29   \n",
       "2  43940  43970  43270  43270  339900    14780670000  2016     12   28   \n",
       "3  43140  43700  43140  43620  400100    17427993000  2016     12   27   \n",
       "4  43310  43660  43090  43340  358200    15547803000  2016     12   26   \n",
       "\n",
       "     O_t-3    O_t-2    O_t-1  \n",
       "0  43140.0  43940.0  43000.0  \n",
       "1  43310.0  43140.0  43940.0  \n",
       "2  43660.0  43310.0  43140.0  \n",
       "3  43900.0  43660.0  43310.0  \n",
       "4  42910.0  43900.0  43660.0  "
      ]
     },
     "execution_count": 14,
     "metadata": {},
     "output_type": "execute_result"
    }
   ],
   "source": [
    "train1.head()"
   ]
  },
  {
   "cell_type": "code",
   "execution_count": 15,
   "metadata": {},
   "outputs": [
    {
     "data": {
      "text/html": [
       "<div>\n",
       "<style scoped>\n",
       "    .dataframe tbody tr th:only-of-type {\n",
       "        vertical-align: middle;\n",
       "    }\n",
       "\n",
       "    .dataframe tbody tr th {\n",
       "        vertical-align: top;\n",
       "    }\n",
       "\n",
       "    .dataframe thead th {\n",
       "        text-align: right;\n",
       "    }\n",
       "</style>\n",
       "<table border=\"1\" class=\"dataframe\">\n",
       "  <thead>\n",
       "    <tr style=\"text-align: right;\">\n",
       "      <th></th>\n",
       "      <th>Open</th>\n",
       "      <th>High</th>\n",
       "      <th>Low</th>\n",
       "      <th>Close</th>\n",
       "      <th>Volume</th>\n",
       "      <th>Stock Trading</th>\n",
       "      <th>Year</th>\n",
       "      <th>Month</th>\n",
       "      <th>Day</th>\n",
       "      <th>O_t-3</th>\n",
       "      <th>O_t-2</th>\n",
       "      <th>O_t-1</th>\n",
       "    </tr>\n",
       "  </thead>\n",
       "  <tbody>\n",
       "    <tr>\n",
       "      <th>1221</th>\n",
       "      <td>14360</td>\n",
       "      <td>14750</td>\n",
       "      <td>14280</td>\n",
       "      <td>14590</td>\n",
       "      <td>1043400</td>\n",
       "      <td>15191988000</td>\n",
       "      <td>2012</td>\n",
       "      <td>1</td>\n",
       "      <td>11</td>\n",
       "      <td>13720.0</td>\n",
       "      <td>13990.0</td>\n",
       "      <td>13890.0</td>\n",
       "    </tr>\n",
       "    <tr>\n",
       "      <th>1222</th>\n",
       "      <td>13890</td>\n",
       "      <td>14390</td>\n",
       "      <td>13860</td>\n",
       "      <td>14390</td>\n",
       "      <td>952300</td>\n",
       "      <td>13533413000</td>\n",
       "      <td>2012</td>\n",
       "      <td>1</td>\n",
       "      <td>10</td>\n",
       "      <td>14050.0</td>\n",
       "      <td>13720.0</td>\n",
       "      <td>13990.0</td>\n",
       "    </tr>\n",
       "    <tr>\n",
       "      <th>1223</th>\n",
       "      <td>13990</td>\n",
       "      <td>14030</td>\n",
       "      <td>13790</td>\n",
       "      <td>13850</td>\n",
       "      <td>765500</td>\n",
       "      <td>10635609000</td>\n",
       "      <td>2012</td>\n",
       "      <td>1</td>\n",
       "      <td>6</td>\n",
       "      <td>NaN</td>\n",
       "      <td>14050.0</td>\n",
       "      <td>13720.0</td>\n",
       "    </tr>\n",
       "    <tr>\n",
       "      <th>1224</th>\n",
       "      <td>13720</td>\n",
       "      <td>13840</td>\n",
       "      <td>13600</td>\n",
       "      <td>13800</td>\n",
       "      <td>511500</td>\n",
       "      <td>7030811000</td>\n",
       "      <td>2012</td>\n",
       "      <td>1</td>\n",
       "      <td>5</td>\n",
       "      <td>NaN</td>\n",
       "      <td>NaN</td>\n",
       "      <td>14050.0</td>\n",
       "    </tr>\n",
       "    <tr>\n",
       "      <th>1225</th>\n",
       "      <td>14050</td>\n",
       "      <td>14050</td>\n",
       "      <td>13700</td>\n",
       "      <td>13720</td>\n",
       "      <td>559100</td>\n",
       "      <td>7719804000</td>\n",
       "      <td>2012</td>\n",
       "      <td>1</td>\n",
       "      <td>4</td>\n",
       "      <td>NaN</td>\n",
       "      <td>NaN</td>\n",
       "      <td>NaN</td>\n",
       "    </tr>\n",
       "  </tbody>\n",
       "</table>\n",
       "</div>"
      ],
      "text/plain": [
       "       Open   High    Low  Close   Volume  Stock Trading  Year  Month  Day  \\\n",
       "1221  14360  14750  14280  14590  1043400    15191988000  2012      1   11   \n",
       "1222  13890  14390  13860  14390   952300    13533413000  2012      1   10   \n",
       "1223  13990  14030  13790  13850   765500    10635609000  2012      1    6   \n",
       "1224  13720  13840  13600  13800   511500     7030811000  2012      1    5   \n",
       "1225  14050  14050  13700  13720   559100     7719804000  2012      1    4   \n",
       "\n",
       "        O_t-3    O_t-2    O_t-1  \n",
       "1221  13720.0  13990.0  13890.0  \n",
       "1222  14050.0  13720.0  13990.0  \n",
       "1223      NaN  14050.0  13720.0  \n",
       "1224      NaN      NaN  14050.0  \n",
       "1225      NaN      NaN      NaN  "
      ]
     },
     "execution_count": 15,
     "metadata": {},
     "output_type": "execute_result"
    }
   ],
   "source": [
    "train1.tail()"
   ]
  },
  {
   "cell_type": "code",
   "execution_count": 16,
   "metadata": {},
   "outputs": [
    {
     "data": {
      "text/plain": [
       "(1226, 3)"
      ]
     },
     "execution_count": 16,
     "metadata": {},
     "output_type": "execute_result"
    }
   ],
   "source": [
    "#Applying Lag Features to Opening Price\n",
    "close_vals = Series(train['Close'])\n",
    "close_dataframe = concat([close_vals.shift(-3), close_vals.shift(-2), close_vals.shift(-1)], axis=1)\n",
    "close_dataframe.columns = ['C_t-3', 'C_t-2', 'C_t-1']\n",
    "close_dataframe.shape"
   ]
  },
  {
   "cell_type": "code",
   "execution_count": 17,
   "metadata": {
    "collapsed": true
   },
   "outputs": [],
   "source": [
    "#combining the train data and the lag features of Temp\n",
    "train1 = pd.concat([train1, close_dataframe], axis=1)"
   ]
  },
  {
   "cell_type": "code",
   "execution_count": 18,
   "metadata": {},
   "outputs": [
    {
     "data": {
      "text/html": [
       "<div>\n",
       "<style scoped>\n",
       "    .dataframe tbody tr th:only-of-type {\n",
       "        vertical-align: middle;\n",
       "    }\n",
       "\n",
       "    .dataframe tbody tr th {\n",
       "        vertical-align: top;\n",
       "    }\n",
       "\n",
       "    .dataframe thead th {\n",
       "        text-align: right;\n",
       "    }\n",
       "</style>\n",
       "<table border=\"1\" class=\"dataframe\">\n",
       "  <thead>\n",
       "    <tr style=\"text-align: right;\">\n",
       "      <th></th>\n",
       "      <th>Open</th>\n",
       "      <th>High</th>\n",
       "      <th>Low</th>\n",
       "      <th>Close</th>\n",
       "      <th>Volume</th>\n",
       "      <th>Stock Trading</th>\n",
       "      <th>Year</th>\n",
       "      <th>Month</th>\n",
       "      <th>Day</th>\n",
       "      <th>O_t-3</th>\n",
       "      <th>O_t-2</th>\n",
       "      <th>O_t-1</th>\n",
       "      <th>C_t-3</th>\n",
       "      <th>C_t-2</th>\n",
       "      <th>C_t-1</th>\n",
       "    </tr>\n",
       "  </thead>\n",
       "  <tbody>\n",
       "    <tr>\n",
       "      <th>0</th>\n",
       "      <td>42120</td>\n",
       "      <td>42330</td>\n",
       "      <td>41700</td>\n",
       "      <td>41830</td>\n",
       "      <td>610000</td>\n",
       "      <td>25628028000</td>\n",
       "      <td>2016</td>\n",
       "      <td>12</td>\n",
       "      <td>30</td>\n",
       "      <td>43140.0</td>\n",
       "      <td>43940.0</td>\n",
       "      <td>43000.0</td>\n",
       "      <td>43620.0</td>\n",
       "      <td>43270.0</td>\n",
       "      <td>42660.0</td>\n",
       "    </tr>\n",
       "    <tr>\n",
       "      <th>1</th>\n",
       "      <td>43000</td>\n",
       "      <td>43220</td>\n",
       "      <td>42540</td>\n",
       "      <td>42660</td>\n",
       "      <td>448400</td>\n",
       "      <td>19188227000</td>\n",
       "      <td>2016</td>\n",
       "      <td>12</td>\n",
       "      <td>29</td>\n",
       "      <td>43310.0</td>\n",
       "      <td>43140.0</td>\n",
       "      <td>43940.0</td>\n",
       "      <td>43340.0</td>\n",
       "      <td>43620.0</td>\n",
       "      <td>43270.0</td>\n",
       "    </tr>\n",
       "    <tr>\n",
       "      <th>2</th>\n",
       "      <td>43940</td>\n",
       "      <td>43970</td>\n",
       "      <td>43270</td>\n",
       "      <td>43270</td>\n",
       "      <td>339900</td>\n",
       "      <td>14780670000</td>\n",
       "      <td>2016</td>\n",
       "      <td>12</td>\n",
       "      <td>28</td>\n",
       "      <td>43660.0</td>\n",
       "      <td>43310.0</td>\n",
       "      <td>43140.0</td>\n",
       "      <td>43480.0</td>\n",
       "      <td>43340.0</td>\n",
       "      <td>43620.0</td>\n",
       "    </tr>\n",
       "    <tr>\n",
       "      <th>3</th>\n",
       "      <td>43140</td>\n",
       "      <td>43700</td>\n",
       "      <td>43140</td>\n",
       "      <td>43620</td>\n",
       "      <td>400100</td>\n",
       "      <td>17427993000</td>\n",
       "      <td>2016</td>\n",
       "      <td>12</td>\n",
       "      <td>27</td>\n",
       "      <td>43900.0</td>\n",
       "      <td>43660.0</td>\n",
       "      <td>43310.0</td>\n",
       "      <td>44000.0</td>\n",
       "      <td>43480.0</td>\n",
       "      <td>43340.0</td>\n",
       "    </tr>\n",
       "    <tr>\n",
       "      <th>4</th>\n",
       "      <td>43310</td>\n",
       "      <td>43660</td>\n",
       "      <td>43090</td>\n",
       "      <td>43340</td>\n",
       "      <td>358200</td>\n",
       "      <td>15547803000</td>\n",
       "      <td>2016</td>\n",
       "      <td>12</td>\n",
       "      <td>26</td>\n",
       "      <td>42910.0</td>\n",
       "      <td>43900.0</td>\n",
       "      <td>43660.0</td>\n",
       "      <td>43620.0</td>\n",
       "      <td>44000.0</td>\n",
       "      <td>43480.0</td>\n",
       "    </tr>\n",
       "  </tbody>\n",
       "</table>\n",
       "</div>"
      ],
      "text/plain": [
       "    Open   High    Low  Close  Volume  Stock Trading  Year  Month  Day  \\\n",
       "0  42120  42330  41700  41830  610000    25628028000  2016     12   30   \n",
       "1  43000  43220  42540  42660  448400    19188227000  2016     12   29   \n",
       "2  43940  43970  43270  43270  339900    14780670000  2016     12   28   \n",
       "3  43140  43700  43140  43620  400100    17427993000  2016     12   27   \n",
       "4  43310  43660  43090  43340  358200    15547803000  2016     12   26   \n",
       "\n",
       "     O_t-3    O_t-2    O_t-1    C_t-3    C_t-2    C_t-1  \n",
       "0  43140.0  43940.0  43000.0  43620.0  43270.0  42660.0  \n",
       "1  43310.0  43140.0  43940.0  43340.0  43620.0  43270.0  \n",
       "2  43660.0  43310.0  43140.0  43480.0  43340.0  43620.0  \n",
       "3  43900.0  43660.0  43310.0  44000.0  43480.0  43340.0  \n",
       "4  42910.0  43900.0  43660.0  43620.0  44000.0  43480.0  "
      ]
     },
     "execution_count": 18,
     "metadata": {},
     "output_type": "execute_result"
    }
   ],
   "source": [
    "train1.head()"
   ]
  },
  {
   "cell_type": "code",
   "execution_count": 19,
   "metadata": {},
   "outputs": [
    {
     "data": {
      "text/html": [
       "<div>\n",
       "<style scoped>\n",
       "    .dataframe tbody tr th:only-of-type {\n",
       "        vertical-align: middle;\n",
       "    }\n",
       "\n",
       "    .dataframe tbody tr th {\n",
       "        vertical-align: top;\n",
       "    }\n",
       "\n",
       "    .dataframe thead th {\n",
       "        text-align: right;\n",
       "    }\n",
       "</style>\n",
       "<table border=\"1\" class=\"dataframe\">\n",
       "  <thead>\n",
       "    <tr style=\"text-align: right;\">\n",
       "      <th></th>\n",
       "      <th>Open</th>\n",
       "      <th>High</th>\n",
       "      <th>Low</th>\n",
       "      <th>Close</th>\n",
       "      <th>Volume</th>\n",
       "      <th>Stock Trading</th>\n",
       "      <th>Year</th>\n",
       "      <th>Month</th>\n",
       "      <th>Day</th>\n",
       "      <th>O_t-3</th>\n",
       "      <th>O_t-2</th>\n",
       "      <th>O_t-1</th>\n",
       "      <th>C_t-3</th>\n",
       "      <th>C_t-2</th>\n",
       "      <th>C_t-1</th>\n",
       "    </tr>\n",
       "  </thead>\n",
       "  <tbody>\n",
       "    <tr>\n",
       "      <th>1221</th>\n",
       "      <td>14360</td>\n",
       "      <td>14750</td>\n",
       "      <td>14280</td>\n",
       "      <td>14590</td>\n",
       "      <td>1043400</td>\n",
       "      <td>15191988000</td>\n",
       "      <td>2012</td>\n",
       "      <td>1</td>\n",
       "      <td>11</td>\n",
       "      <td>13720.0</td>\n",
       "      <td>13990.0</td>\n",
       "      <td>13890.0</td>\n",
       "      <td>13800.0</td>\n",
       "      <td>13850.0</td>\n",
       "      <td>14390.0</td>\n",
       "    </tr>\n",
       "    <tr>\n",
       "      <th>1222</th>\n",
       "      <td>13890</td>\n",
       "      <td>14390</td>\n",
       "      <td>13860</td>\n",
       "      <td>14390</td>\n",
       "      <td>952300</td>\n",
       "      <td>13533413000</td>\n",
       "      <td>2012</td>\n",
       "      <td>1</td>\n",
       "      <td>10</td>\n",
       "      <td>14050.0</td>\n",
       "      <td>13720.0</td>\n",
       "      <td>13990.0</td>\n",
       "      <td>13720.0</td>\n",
       "      <td>13800.0</td>\n",
       "      <td>13850.0</td>\n",
       "    </tr>\n",
       "    <tr>\n",
       "      <th>1223</th>\n",
       "      <td>13990</td>\n",
       "      <td>14030</td>\n",
       "      <td>13790</td>\n",
       "      <td>13850</td>\n",
       "      <td>765500</td>\n",
       "      <td>10635609000</td>\n",
       "      <td>2012</td>\n",
       "      <td>1</td>\n",
       "      <td>6</td>\n",
       "      <td>NaN</td>\n",
       "      <td>14050.0</td>\n",
       "      <td>13720.0</td>\n",
       "      <td>NaN</td>\n",
       "      <td>13720.0</td>\n",
       "      <td>13800.0</td>\n",
       "    </tr>\n",
       "    <tr>\n",
       "      <th>1224</th>\n",
       "      <td>13720</td>\n",
       "      <td>13840</td>\n",
       "      <td>13600</td>\n",
       "      <td>13800</td>\n",
       "      <td>511500</td>\n",
       "      <td>7030811000</td>\n",
       "      <td>2012</td>\n",
       "      <td>1</td>\n",
       "      <td>5</td>\n",
       "      <td>NaN</td>\n",
       "      <td>NaN</td>\n",
       "      <td>14050.0</td>\n",
       "      <td>NaN</td>\n",
       "      <td>NaN</td>\n",
       "      <td>13720.0</td>\n",
       "    </tr>\n",
       "    <tr>\n",
       "      <th>1225</th>\n",
       "      <td>14050</td>\n",
       "      <td>14050</td>\n",
       "      <td>13700</td>\n",
       "      <td>13720</td>\n",
       "      <td>559100</td>\n",
       "      <td>7719804000</td>\n",
       "      <td>2012</td>\n",
       "      <td>1</td>\n",
       "      <td>4</td>\n",
       "      <td>NaN</td>\n",
       "      <td>NaN</td>\n",
       "      <td>NaN</td>\n",
       "      <td>NaN</td>\n",
       "      <td>NaN</td>\n",
       "      <td>NaN</td>\n",
       "    </tr>\n",
       "  </tbody>\n",
       "</table>\n",
       "</div>"
      ],
      "text/plain": [
       "       Open   High    Low  Close   Volume  Stock Trading  Year  Month  Day  \\\n",
       "1221  14360  14750  14280  14590  1043400    15191988000  2012      1   11   \n",
       "1222  13890  14390  13860  14390   952300    13533413000  2012      1   10   \n",
       "1223  13990  14030  13790  13850   765500    10635609000  2012      1    6   \n",
       "1224  13720  13840  13600  13800   511500     7030811000  2012      1    5   \n",
       "1225  14050  14050  13700  13720   559100     7719804000  2012      1    4   \n",
       "\n",
       "        O_t-3    O_t-2    O_t-1    C_t-3    C_t-2    C_t-1  \n",
       "1221  13720.0  13990.0  13890.0  13800.0  13850.0  14390.0  \n",
       "1222  14050.0  13720.0  13990.0  13720.0  13800.0  13850.0  \n",
       "1223      NaN  14050.0  13720.0      NaN  13720.0  13800.0  \n",
       "1224      NaN      NaN  14050.0      NaN      NaN  13720.0  \n",
       "1225      NaN      NaN      NaN      NaN      NaN      NaN  "
      ]
     },
     "execution_count": 19,
     "metadata": {},
     "output_type": "execute_result"
    }
   ],
   "source": [
    "train1.tail()"
   ]
  },
  {
   "cell_type": "code",
   "execution_count": 20,
   "metadata": {
    "collapsed": true
   },
   "outputs": [],
   "source": [
    "#dropping null value rows\n",
    "train1.dropna(inplace = True)"
   ]
  },
  {
   "cell_type": "code",
   "execution_count": 21,
   "metadata": {},
   "outputs": [
    {
     "data": {
      "text/html": [
       "<div>\n",
       "<style scoped>\n",
       "    .dataframe tbody tr th:only-of-type {\n",
       "        vertical-align: middle;\n",
       "    }\n",
       "\n",
       "    .dataframe tbody tr th {\n",
       "        vertical-align: top;\n",
       "    }\n",
       "\n",
       "    .dataframe thead th {\n",
       "        text-align: right;\n",
       "    }\n",
       "</style>\n",
       "<table border=\"1\" class=\"dataframe\">\n",
       "  <thead>\n",
       "    <tr style=\"text-align: right;\">\n",
       "      <th></th>\n",
       "      <th>Open</th>\n",
       "      <th>High</th>\n",
       "      <th>Low</th>\n",
       "      <th>Close</th>\n",
       "      <th>Volume</th>\n",
       "      <th>Stock Trading</th>\n",
       "      <th>Year</th>\n",
       "      <th>Month</th>\n",
       "      <th>Day</th>\n",
       "      <th>O_t-3</th>\n",
       "      <th>O_t-2</th>\n",
       "      <th>O_t-1</th>\n",
       "      <th>C_t-3</th>\n",
       "      <th>C_t-2</th>\n",
       "      <th>C_t-1</th>\n",
       "    </tr>\n",
       "  </thead>\n",
       "  <tbody>\n",
       "    <tr>\n",
       "      <th>1218</th>\n",
       "      <td>14610</td>\n",
       "      <td>14670</td>\n",
       "      <td>14530</td>\n",
       "      <td>14610</td>\n",
       "      <td>360100</td>\n",
       "      <td>5255652000</td>\n",
       "      <td>2012</td>\n",
       "      <td>1</td>\n",
       "      <td>16</td>\n",
       "      <td>14360.0</td>\n",
       "      <td>14520.0</td>\n",
       "      <td>14740.0</td>\n",
       "      <td>14590.0</td>\n",
       "      <td>14520.0</td>\n",
       "      <td>14770.0</td>\n",
       "    </tr>\n",
       "    <tr>\n",
       "      <th>1219</th>\n",
       "      <td>14740</td>\n",
       "      <td>14780</td>\n",
       "      <td>14450</td>\n",
       "      <td>14770</td>\n",
       "      <td>1543700</td>\n",
       "      <td>22669096000</td>\n",
       "      <td>2012</td>\n",
       "      <td>1</td>\n",
       "      <td>13</td>\n",
       "      <td>13890.0</td>\n",
       "      <td>14360.0</td>\n",
       "      <td>14520.0</td>\n",
       "      <td>14390.0</td>\n",
       "      <td>14590.0</td>\n",
       "      <td>14520.0</td>\n",
       "    </tr>\n",
       "    <tr>\n",
       "      <th>1220</th>\n",
       "      <td>14520</td>\n",
       "      <td>14600</td>\n",
       "      <td>14330</td>\n",
       "      <td>14520</td>\n",
       "      <td>540500</td>\n",
       "      <td>7814121000</td>\n",
       "      <td>2012</td>\n",
       "      <td>1</td>\n",
       "      <td>12</td>\n",
       "      <td>13990.0</td>\n",
       "      <td>13890.0</td>\n",
       "      <td>14360.0</td>\n",
       "      <td>13850.0</td>\n",
       "      <td>14390.0</td>\n",
       "      <td>14590.0</td>\n",
       "    </tr>\n",
       "    <tr>\n",
       "      <th>1221</th>\n",
       "      <td>14360</td>\n",
       "      <td>14750</td>\n",
       "      <td>14280</td>\n",
       "      <td>14590</td>\n",
       "      <td>1043400</td>\n",
       "      <td>15191988000</td>\n",
       "      <td>2012</td>\n",
       "      <td>1</td>\n",
       "      <td>11</td>\n",
       "      <td>13720.0</td>\n",
       "      <td>13990.0</td>\n",
       "      <td>13890.0</td>\n",
       "      <td>13800.0</td>\n",
       "      <td>13850.0</td>\n",
       "      <td>14390.0</td>\n",
       "    </tr>\n",
       "    <tr>\n",
       "      <th>1222</th>\n",
       "      <td>13890</td>\n",
       "      <td>14390</td>\n",
       "      <td>13860</td>\n",
       "      <td>14390</td>\n",
       "      <td>952300</td>\n",
       "      <td>13533413000</td>\n",
       "      <td>2012</td>\n",
       "      <td>1</td>\n",
       "      <td>10</td>\n",
       "      <td>14050.0</td>\n",
       "      <td>13720.0</td>\n",
       "      <td>13990.0</td>\n",
       "      <td>13720.0</td>\n",
       "      <td>13800.0</td>\n",
       "      <td>13850.0</td>\n",
       "    </tr>\n",
       "  </tbody>\n",
       "</table>\n",
       "</div>"
      ],
      "text/plain": [
       "       Open   High    Low  Close   Volume  Stock Trading  Year  Month  Day  \\\n",
       "1218  14610  14670  14530  14610   360100     5255652000  2012      1   16   \n",
       "1219  14740  14780  14450  14770  1543700    22669096000  2012      1   13   \n",
       "1220  14520  14600  14330  14520   540500     7814121000  2012      1   12   \n",
       "1221  14360  14750  14280  14590  1043400    15191988000  2012      1   11   \n",
       "1222  13890  14390  13860  14390   952300    13533413000  2012      1   10   \n",
       "\n",
       "        O_t-3    O_t-2    O_t-1    C_t-3    C_t-2    C_t-1  \n",
       "1218  14360.0  14520.0  14740.0  14590.0  14520.0  14770.0  \n",
       "1219  13890.0  14360.0  14520.0  14390.0  14590.0  14520.0  \n",
       "1220  13990.0  13890.0  14360.0  13850.0  14390.0  14590.0  \n",
       "1221  13720.0  13990.0  13890.0  13800.0  13850.0  14390.0  \n",
       "1222  14050.0  13720.0  13990.0  13720.0  13800.0  13850.0  "
      ]
     },
     "execution_count": 21,
     "metadata": {},
     "output_type": "execute_result"
    }
   ],
   "source": [
    "train1.tail()"
   ]
  },
  {
   "cell_type": "code",
   "execution_count": 22,
   "metadata": {},
   "outputs": [
    {
     "data": {
      "text/plain": [
       "(1223, 15)"
      ]
     },
     "execution_count": 22,
     "metadata": {},
     "output_type": "execute_result"
    }
   ],
   "source": [
    "train1.shape"
   ]
  },
  {
   "cell_type": "code",
   "execution_count": 23,
   "metadata": {
    "collapsed": true
   },
   "outputs": [],
   "source": [
    "#since for combining of data, both should have same number of rows. hence, removing the extra row\n",
    "#train1.drop(train1.head(1).index, inplace=True)\n",
    "#train1.shape"
   ]
  },
  {
   "cell_type": "markdown",
   "metadata": {},
   "source": [
    "#### Rolling Window Statistics"
   ]
  },
  {
   "cell_type": "code",
   "execution_count": 13,
   "metadata": {
    "collapsed": true
   },
   "outputs": [],
   "source": [
    "# Appling window Features for the Highest Value Feature\n",
    "high = train['High']\n",
    "w = 3"
   ]
  },
  {
   "cell_type": "code",
   "execution_count": 14,
   "metadata": {
    "collapsed": true
   },
   "outputs": [],
   "source": [
    "shift = high.shift(-w+1)"
   ]
  },
  {
   "cell_type": "code",
   "execution_count": 15,
   "metadata": {},
   "outputs": [
    {
     "data": {
      "text/plain": [
       "0    42330\n",
       "1    43220\n",
       "2    43970\n",
       "3    43700\n",
       "4    43660\n",
       "Name: High, dtype: int64"
      ]
     },
     "execution_count": 15,
     "metadata": {},
     "output_type": "execute_result"
    }
   ],
   "source": [
    "train['High'].head()"
   ]
  },
  {
   "cell_type": "code",
   "execution_count": 45,
   "metadata": {},
   "outputs": [
    {
     "data": {
      "text/plain": [
       "0    43970.0\n",
       "1    43700.0\n",
       "2    43660.0\n",
       "3    43840.0\n",
       "4    44370.0\n",
       "Name: High, dtype: float64"
      ]
     },
     "execution_count": 45,
     "metadata": {},
     "output_type": "execute_result"
    }
   ],
   "source": [
    "shift.head()"
   ]
  },
  {
   "cell_type": "code",
   "execution_count": null,
   "metadata": {
    "collapsed": true
   },
   "outputs": [],
   "source": []
  },
  {
   "cell_type": "code",
   "execution_count": 46,
   "metadata": {
    "collapsed": true
   },
   "outputs": [],
   "source": [
    "window = shift.rolling(window=w)\n"
   ]
  },
  {
   "cell_type": "code",
   "execution_count": 47,
   "metadata": {},
   "outputs": [
    {
     "data": {
      "text/plain": [
       "pandas.core.window.Rolling"
      ]
     },
     "execution_count": 47,
     "metadata": {},
     "output_type": "execute_result"
    }
   ],
   "source": [
    "type(window)"
   ]
  },
  {
   "cell_type": "code",
   "execution_count": 48,
   "metadata": {},
   "outputs": [
    {
     "data": {
      "text/plain": [
       "0        NaN\n",
       "1        NaN\n",
       "2    43660.0\n",
       "3    43660.0\n",
       "4    43660.0\n",
       "Name: High, dtype: float64"
      ]
     },
     "execution_count": 48,
     "metadata": {},
     "output_type": "execute_result"
    }
   ],
   "source": [
    "window.min().head()"
   ]
  },
  {
   "cell_type": "code",
   "execution_count": 49,
   "metadata": {
    "collapsed": true
   },
   "outputs": [],
   "source": [
    "df = concat([window.min(), window.mean(), window.max(), high], axis=1)\n",
    "df.columns = ['min', 'mean', 'max', 'high']"
   ]
  },
  {
   "cell_type": "code",
   "execution_count": null,
   "metadata": {
    "collapsed": true
   },
   "outputs": [],
   "source": []
  },
  {
   "cell_type": "code",
   "execution_count": 50,
   "metadata": {},
   "outputs": [
    {
     "data": {
      "text/html": [
       "<div>\n",
       "<style scoped>\n",
       "    .dataframe tbody tr th:only-of-type {\n",
       "        vertical-align: middle;\n",
       "    }\n",
       "\n",
       "    .dataframe tbody tr th {\n",
       "        vertical-align: top;\n",
       "    }\n",
       "\n",
       "    .dataframe thead th {\n",
       "        text-align: right;\n",
       "    }\n",
       "</style>\n",
       "<table border=\"1\" class=\"dataframe\">\n",
       "  <thead>\n",
       "    <tr style=\"text-align: right;\">\n",
       "      <th></th>\n",
       "      <th>min</th>\n",
       "      <th>mean</th>\n",
       "      <th>max</th>\n",
       "      <th>high</th>\n",
       "    </tr>\n",
       "  </thead>\n",
       "  <tbody>\n",
       "    <tr>\n",
       "      <th>0</th>\n",
       "      <td>NaN</td>\n",
       "      <td>NaN</td>\n",
       "      <td>NaN</td>\n",
       "      <td>42330</td>\n",
       "    </tr>\n",
       "    <tr>\n",
       "      <th>1</th>\n",
       "      <td>NaN</td>\n",
       "      <td>NaN</td>\n",
       "      <td>NaN</td>\n",
       "      <td>43220</td>\n",
       "    </tr>\n",
       "    <tr>\n",
       "      <th>2</th>\n",
       "      <td>43660.0</td>\n",
       "      <td>43776.666667</td>\n",
       "      <td>43970.0</td>\n",
       "      <td>43970</td>\n",
       "    </tr>\n",
       "    <tr>\n",
       "      <th>3</th>\n",
       "      <td>43660.0</td>\n",
       "      <td>43733.333333</td>\n",
       "      <td>43840.0</td>\n",
       "      <td>43700</td>\n",
       "    </tr>\n",
       "    <tr>\n",
       "      <th>4</th>\n",
       "      <td>43660.0</td>\n",
       "      <td>43956.666667</td>\n",
       "      <td>44370.0</td>\n",
       "      <td>43660</td>\n",
       "    </tr>\n",
       "  </tbody>\n",
       "</table>\n",
       "</div>"
      ],
      "text/plain": [
       "       min          mean      max   high\n",
       "0      NaN           NaN      NaN  42330\n",
       "1      NaN           NaN      NaN  43220\n",
       "2  43660.0  43776.666667  43970.0  43970\n",
       "3  43660.0  43733.333333  43840.0  43700\n",
       "4  43660.0  43956.666667  44370.0  43660"
      ]
     },
     "execution_count": 50,
     "metadata": {},
     "output_type": "execute_result"
    }
   ],
   "source": [
    "df.head()"
   ]
  },
  {
   "cell_type": "code",
   "execution_count": 51,
   "metadata": {},
   "outputs": [
    {
     "data": {
      "text/plain": [
       "(1222, 4)"
      ]
     },
     "execution_count": 51,
     "metadata": {},
     "output_type": "execute_result"
    }
   ],
   "source": [
    "#dropping null values\n",
    "df.dropna(inplace = True)\n",
    "df.shape"
   ]
  },
  {
   "cell_type": "code",
   "execution_count": 52,
   "metadata": {
    "collapsed": true
   },
   "outputs": [],
   "source": [
    "#combining the train1 and the rolling window features\n",
    "train2 = pd.concat([train1, df], axis=1)"
   ]
  },
  {
   "cell_type": "code",
   "execution_count": 53,
   "metadata": {},
   "outputs": [
    {
     "data": {
      "text/html": [
       "<div>\n",
       "<style scoped>\n",
       "    .dataframe tbody tr th:only-of-type {\n",
       "        vertical-align: middle;\n",
       "    }\n",
       "\n",
       "    .dataframe tbody tr th {\n",
       "        vertical-align: top;\n",
       "    }\n",
       "\n",
       "    .dataframe thead th {\n",
       "        text-align: right;\n",
       "    }\n",
       "</style>\n",
       "<table border=\"1\" class=\"dataframe\">\n",
       "  <thead>\n",
       "    <tr style=\"text-align: right;\">\n",
       "      <th></th>\n",
       "      <th>Open</th>\n",
       "      <th>High</th>\n",
       "      <th>Low</th>\n",
       "      <th>Close</th>\n",
       "      <th>Volume</th>\n",
       "      <th>Stock Trading</th>\n",
       "      <th>Year</th>\n",
       "      <th>Month</th>\n",
       "      <th>Day</th>\n",
       "      <th>O_t-3</th>\n",
       "      <th>O_t-2</th>\n",
       "      <th>O_t-1</th>\n",
       "      <th>C_t-3</th>\n",
       "      <th>C_t-2</th>\n",
       "      <th>C_t-1</th>\n",
       "      <th>min</th>\n",
       "      <th>mean</th>\n",
       "      <th>max</th>\n",
       "      <th>high</th>\n",
       "    </tr>\n",
       "  </thead>\n",
       "  <tbody>\n",
       "    <tr>\n",
       "      <th>0</th>\n",
       "      <td>42120.0</td>\n",
       "      <td>42330.0</td>\n",
       "      <td>41700.0</td>\n",
       "      <td>41830.0</td>\n",
       "      <td>610000.0</td>\n",
       "      <td>2.562803e+10</td>\n",
       "      <td>2016.0</td>\n",
       "      <td>12.0</td>\n",
       "      <td>30.0</td>\n",
       "      <td>43140.0</td>\n",
       "      <td>43940.0</td>\n",
       "      <td>43000.0</td>\n",
       "      <td>43620.0</td>\n",
       "      <td>43270.0</td>\n",
       "      <td>42660.0</td>\n",
       "      <td>NaN</td>\n",
       "      <td>NaN</td>\n",
       "      <td>NaN</td>\n",
       "      <td>NaN</td>\n",
       "    </tr>\n",
       "    <tr>\n",
       "      <th>1</th>\n",
       "      <td>43000.0</td>\n",
       "      <td>43220.0</td>\n",
       "      <td>42540.0</td>\n",
       "      <td>42660.0</td>\n",
       "      <td>448400.0</td>\n",
       "      <td>1.918823e+10</td>\n",
       "      <td>2016.0</td>\n",
       "      <td>12.0</td>\n",
       "      <td>29.0</td>\n",
       "      <td>43310.0</td>\n",
       "      <td>43140.0</td>\n",
       "      <td>43940.0</td>\n",
       "      <td>43340.0</td>\n",
       "      <td>43620.0</td>\n",
       "      <td>43270.0</td>\n",
       "      <td>NaN</td>\n",
       "      <td>NaN</td>\n",
       "      <td>NaN</td>\n",
       "      <td>NaN</td>\n",
       "    </tr>\n",
       "    <tr>\n",
       "      <th>2</th>\n",
       "      <td>43940.0</td>\n",
       "      <td>43970.0</td>\n",
       "      <td>43270.0</td>\n",
       "      <td>43270.0</td>\n",
       "      <td>339900.0</td>\n",
       "      <td>1.478067e+10</td>\n",
       "      <td>2016.0</td>\n",
       "      <td>12.0</td>\n",
       "      <td>28.0</td>\n",
       "      <td>43660.0</td>\n",
       "      <td>43310.0</td>\n",
       "      <td>43140.0</td>\n",
       "      <td>43480.0</td>\n",
       "      <td>43340.0</td>\n",
       "      <td>43620.0</td>\n",
       "      <td>43660.0</td>\n",
       "      <td>43776.666667</td>\n",
       "      <td>43970.0</td>\n",
       "      <td>43970.0</td>\n",
       "    </tr>\n",
       "    <tr>\n",
       "      <th>3</th>\n",
       "      <td>43140.0</td>\n",
       "      <td>43700.0</td>\n",
       "      <td>43140.0</td>\n",
       "      <td>43620.0</td>\n",
       "      <td>400100.0</td>\n",
       "      <td>1.742799e+10</td>\n",
       "      <td>2016.0</td>\n",
       "      <td>12.0</td>\n",
       "      <td>27.0</td>\n",
       "      <td>43900.0</td>\n",
       "      <td>43660.0</td>\n",
       "      <td>43310.0</td>\n",
       "      <td>44000.0</td>\n",
       "      <td>43480.0</td>\n",
       "      <td>43340.0</td>\n",
       "      <td>43660.0</td>\n",
       "      <td>43733.333333</td>\n",
       "      <td>43840.0</td>\n",
       "      <td>43700.0</td>\n",
       "    </tr>\n",
       "    <tr>\n",
       "      <th>4</th>\n",
       "      <td>43310.0</td>\n",
       "      <td>43660.0</td>\n",
       "      <td>43090.0</td>\n",
       "      <td>43340.0</td>\n",
       "      <td>358200.0</td>\n",
       "      <td>1.554780e+10</td>\n",
       "      <td>2016.0</td>\n",
       "      <td>12.0</td>\n",
       "      <td>26.0</td>\n",
       "      <td>42910.0</td>\n",
       "      <td>43900.0</td>\n",
       "      <td>43660.0</td>\n",
       "      <td>43620.0</td>\n",
       "      <td>44000.0</td>\n",
       "      <td>43480.0</td>\n",
       "      <td>43660.0</td>\n",
       "      <td>43956.666667</td>\n",
       "      <td>44370.0</td>\n",
       "      <td>43660.0</td>\n",
       "    </tr>\n",
       "  </tbody>\n",
       "</table>\n",
       "</div>"
      ],
      "text/plain": [
       "      Open     High      Low    Close    Volume  Stock Trading    Year  Month  \\\n",
       "0  42120.0  42330.0  41700.0  41830.0  610000.0   2.562803e+10  2016.0   12.0   \n",
       "1  43000.0  43220.0  42540.0  42660.0  448400.0   1.918823e+10  2016.0   12.0   \n",
       "2  43940.0  43970.0  43270.0  43270.0  339900.0   1.478067e+10  2016.0   12.0   \n",
       "3  43140.0  43700.0  43140.0  43620.0  400100.0   1.742799e+10  2016.0   12.0   \n",
       "4  43310.0  43660.0  43090.0  43340.0  358200.0   1.554780e+10  2016.0   12.0   \n",
       "\n",
       "    Day    O_t-3    O_t-2    O_t-1    C_t-3    C_t-2    C_t-1      min  \\\n",
       "0  30.0  43140.0  43940.0  43000.0  43620.0  43270.0  42660.0      NaN   \n",
       "1  29.0  43310.0  43140.0  43940.0  43340.0  43620.0  43270.0      NaN   \n",
       "2  28.0  43660.0  43310.0  43140.0  43480.0  43340.0  43620.0  43660.0   \n",
       "3  27.0  43900.0  43660.0  43310.0  44000.0  43480.0  43340.0  43660.0   \n",
       "4  26.0  42910.0  43900.0  43660.0  43620.0  44000.0  43480.0  43660.0   \n",
       "\n",
       "           mean      max     high  \n",
       "0           NaN      NaN      NaN  \n",
       "1           NaN      NaN      NaN  \n",
       "2  43776.666667  43970.0  43970.0  \n",
       "3  43733.333333  43840.0  43700.0  \n",
       "4  43956.666667  44370.0  43660.0  "
      ]
     },
     "execution_count": 53,
     "metadata": {},
     "output_type": "execute_result"
    }
   ],
   "source": [
    "train2.head()"
   ]
  },
  {
   "cell_type": "code",
   "execution_count": 54,
   "metadata": {
    "collapsed": true
   },
   "outputs": [],
   "source": [
    "#Dropping the High feature(redundant)\n",
    "drop_features(['High'],train2)"
   ]
  },
  {
   "cell_type": "code",
   "execution_count": 55,
   "metadata": {},
   "outputs": [
    {
     "data": {
      "text/html": [
       "<div>\n",
       "<style scoped>\n",
       "    .dataframe tbody tr th:only-of-type {\n",
       "        vertical-align: middle;\n",
       "    }\n",
       "\n",
       "    .dataframe tbody tr th {\n",
       "        vertical-align: top;\n",
       "    }\n",
       "\n",
       "    .dataframe thead th {\n",
       "        text-align: right;\n",
       "    }\n",
       "</style>\n",
       "<table border=\"1\" class=\"dataframe\">\n",
       "  <thead>\n",
       "    <tr style=\"text-align: right;\">\n",
       "      <th></th>\n",
       "      <th>Open</th>\n",
       "      <th>Low</th>\n",
       "      <th>Close</th>\n",
       "      <th>Volume</th>\n",
       "      <th>Stock Trading</th>\n",
       "      <th>Year</th>\n",
       "      <th>Month</th>\n",
       "      <th>Day</th>\n",
       "      <th>O_t-3</th>\n",
       "      <th>O_t-2</th>\n",
       "      <th>O_t-1</th>\n",
       "      <th>C_t-3</th>\n",
       "      <th>C_t-2</th>\n",
       "      <th>C_t-1</th>\n",
       "      <th>min</th>\n",
       "      <th>mean</th>\n",
       "      <th>max</th>\n",
       "      <th>high</th>\n",
       "    </tr>\n",
       "  </thead>\n",
       "  <tbody>\n",
       "    <tr>\n",
       "      <th>1219</th>\n",
       "      <td>14740.0</td>\n",
       "      <td>14450.0</td>\n",
       "      <td>14770.0</td>\n",
       "      <td>1543700.0</td>\n",
       "      <td>2.266910e+10</td>\n",
       "      <td>2012.0</td>\n",
       "      <td>1.0</td>\n",
       "      <td>13.0</td>\n",
       "      <td>13890.0</td>\n",
       "      <td>14360.0</td>\n",
       "      <td>14520.0</td>\n",
       "      <td>14390.0</td>\n",
       "      <td>14590.0</td>\n",
       "      <td>14520.0</td>\n",
       "      <td>14600.0</td>\n",
       "      <td>14710.000000</td>\n",
       "      <td>14780.0</td>\n",
       "      <td>14780.0</td>\n",
       "    </tr>\n",
       "    <tr>\n",
       "      <th>1220</th>\n",
       "      <td>14520.0</td>\n",
       "      <td>14330.0</td>\n",
       "      <td>14520.0</td>\n",
       "      <td>540500.0</td>\n",
       "      <td>7.814121e+09</td>\n",
       "      <td>2012.0</td>\n",
       "      <td>1.0</td>\n",
       "      <td>12.0</td>\n",
       "      <td>13990.0</td>\n",
       "      <td>13890.0</td>\n",
       "      <td>14360.0</td>\n",
       "      <td>13850.0</td>\n",
       "      <td>14390.0</td>\n",
       "      <td>14590.0</td>\n",
       "      <td>14390.0</td>\n",
       "      <td>14580.000000</td>\n",
       "      <td>14750.0</td>\n",
       "      <td>14600.0</td>\n",
       "    </tr>\n",
       "    <tr>\n",
       "      <th>1221</th>\n",
       "      <td>14360.0</td>\n",
       "      <td>14280.0</td>\n",
       "      <td>14590.0</td>\n",
       "      <td>1043400.0</td>\n",
       "      <td>1.519199e+10</td>\n",
       "      <td>2012.0</td>\n",
       "      <td>1.0</td>\n",
       "      <td>11.0</td>\n",
       "      <td>13720.0</td>\n",
       "      <td>13990.0</td>\n",
       "      <td>13890.0</td>\n",
       "      <td>13800.0</td>\n",
       "      <td>13850.0</td>\n",
       "      <td>14390.0</td>\n",
       "      <td>14030.0</td>\n",
       "      <td>14390.000000</td>\n",
       "      <td>14750.0</td>\n",
       "      <td>14750.0</td>\n",
       "    </tr>\n",
       "    <tr>\n",
       "      <th>1222</th>\n",
       "      <td>13890.0</td>\n",
       "      <td>13860.0</td>\n",
       "      <td>14390.0</td>\n",
       "      <td>952300.0</td>\n",
       "      <td>1.353341e+10</td>\n",
       "      <td>2012.0</td>\n",
       "      <td>1.0</td>\n",
       "      <td>10.0</td>\n",
       "      <td>14050.0</td>\n",
       "      <td>13720.0</td>\n",
       "      <td>13990.0</td>\n",
       "      <td>13720.0</td>\n",
       "      <td>13800.0</td>\n",
       "      <td>13850.0</td>\n",
       "      <td>13840.0</td>\n",
       "      <td>14086.666667</td>\n",
       "      <td>14390.0</td>\n",
       "      <td>14390.0</td>\n",
       "    </tr>\n",
       "    <tr>\n",
       "      <th>1223</th>\n",
       "      <td>NaN</td>\n",
       "      <td>NaN</td>\n",
       "      <td>NaN</td>\n",
       "      <td>NaN</td>\n",
       "      <td>NaN</td>\n",
       "      <td>NaN</td>\n",
       "      <td>NaN</td>\n",
       "      <td>NaN</td>\n",
       "      <td>NaN</td>\n",
       "      <td>NaN</td>\n",
       "      <td>NaN</td>\n",
       "      <td>NaN</td>\n",
       "      <td>NaN</td>\n",
       "      <td>NaN</td>\n",
       "      <td>13840.0</td>\n",
       "      <td>13973.333333</td>\n",
       "      <td>14050.0</td>\n",
       "      <td>14030.0</td>\n",
       "    </tr>\n",
       "  </tbody>\n",
       "</table>\n",
       "</div>"
      ],
      "text/plain": [
       "         Open      Low    Close     Volume  Stock Trading    Year  Month  \\\n",
       "1219  14740.0  14450.0  14770.0  1543700.0   2.266910e+10  2012.0    1.0   \n",
       "1220  14520.0  14330.0  14520.0   540500.0   7.814121e+09  2012.0    1.0   \n",
       "1221  14360.0  14280.0  14590.0  1043400.0   1.519199e+10  2012.0    1.0   \n",
       "1222  13890.0  13860.0  14390.0   952300.0   1.353341e+10  2012.0    1.0   \n",
       "1223      NaN      NaN      NaN        NaN            NaN     NaN    NaN   \n",
       "\n",
       "       Day    O_t-3    O_t-2    O_t-1    C_t-3    C_t-2    C_t-1      min  \\\n",
       "1219  13.0  13890.0  14360.0  14520.0  14390.0  14590.0  14520.0  14600.0   \n",
       "1220  12.0  13990.0  13890.0  14360.0  13850.0  14390.0  14590.0  14390.0   \n",
       "1221  11.0  13720.0  13990.0  13890.0  13800.0  13850.0  14390.0  14030.0   \n",
       "1222  10.0  14050.0  13720.0  13990.0  13720.0  13800.0  13850.0  13840.0   \n",
       "1223   NaN      NaN      NaN      NaN      NaN      NaN      NaN  13840.0   \n",
       "\n",
       "              mean      max     high  \n",
       "1219  14710.000000  14780.0  14780.0  \n",
       "1220  14580.000000  14750.0  14600.0  \n",
       "1221  14390.000000  14750.0  14750.0  \n",
       "1222  14086.666667  14390.0  14390.0  \n",
       "1223  13973.333333  14050.0  14030.0  "
      ]
     },
     "execution_count": 55,
     "metadata": {},
     "output_type": "execute_result"
    }
   ],
   "source": [
    "train2.tail()"
   ]
  },
  {
   "cell_type": "markdown",
   "metadata": {},
   "source": [
    "#### Expanding window Statistics"
   ]
  },
  {
   "cell_type": "code",
   "execution_count": 56,
   "metadata": {
    "collapsed": true
   },
   "outputs": [],
   "source": [
    "train2.dropna(inplace=True)"
   ]
  },
  {
   "cell_type": "code",
   "execution_count": 57,
   "metadata": {
    "collapsed": true
   },
   "outputs": [],
   "source": [
    "#Applying Expanding window for the Lowest Value\n",
    "low= train['Low']\n",
    "window = low.expanding()\n",
    "dfc = concat([window.min(), window.mean(), window.max(), low.shift(-1),low], axis=1)\n",
    "dfc.columns = ['min', 'mean', 'max', 't+1','low']"
   ]
  },
  {
   "cell_type": "code",
   "execution_count": 58,
   "metadata": {},
   "outputs": [
    {
     "data": {
      "text/plain": [
       "(1226, 5)"
      ]
     },
     "execution_count": 58,
     "metadata": {},
     "output_type": "execute_result"
    }
   ],
   "source": [
    "#no null values\n",
    "dfc.shape"
   ]
  },
  {
   "cell_type": "code",
   "execution_count": null,
   "metadata": {
    "collapsed": true
   },
   "outputs": [],
   "source": [
    "#to make it equal to the train2, dropping forst 4 values\n",
    "#dfc.drop(dfc.head(4).index, inplace=True)"
   ]
  },
  {
   "cell_type": "code",
   "execution_count": 59,
   "metadata": {},
   "outputs": [
    {
     "data": {
      "text/plain": [
       "(1226, 5)"
      ]
     },
     "execution_count": 59,
     "metadata": {},
     "output_type": "execute_result"
    }
   ],
   "source": [
    "dfc.shape"
   ]
  },
  {
   "cell_type": "code",
   "execution_count": 60,
   "metadata": {
    "collapsed": true
   },
   "outputs": [],
   "source": [
    "#concating the expanding window features to the previous train2.\n",
    "train_final = pd.concat([train2, dfc], axis=1)\n",
    "#Dropping the CO2 feature(redundant)\n",
    "drop_features(['Low'],train_final)"
   ]
  },
  {
   "cell_type": "code",
   "execution_count": 62,
   "metadata": {},
   "outputs": [
    {
     "data": {
      "text/html": [
       "<div>\n",
       "<style scoped>\n",
       "    .dataframe tbody tr th:only-of-type {\n",
       "        vertical-align: middle;\n",
       "    }\n",
       "\n",
       "    .dataframe tbody tr th {\n",
       "        vertical-align: top;\n",
       "    }\n",
       "\n",
       "    .dataframe thead th {\n",
       "        text-align: right;\n",
       "    }\n",
       "</style>\n",
       "<table border=\"1\" class=\"dataframe\">\n",
       "  <thead>\n",
       "    <tr style=\"text-align: right;\">\n",
       "      <th></th>\n",
       "      <th>Open</th>\n",
       "      <th>Close</th>\n",
       "      <th>Volume</th>\n",
       "      <th>Stock Trading</th>\n",
       "      <th>Year</th>\n",
       "      <th>Month</th>\n",
       "      <th>Day</th>\n",
       "      <th>O_t-3</th>\n",
       "      <th>O_t-2</th>\n",
       "      <th>O_t-1</th>\n",
       "      <th>...</th>\n",
       "      <th>C_t-1</th>\n",
       "      <th>min</th>\n",
       "      <th>mean</th>\n",
       "      <th>max</th>\n",
       "      <th>high</th>\n",
       "      <th>min</th>\n",
       "      <th>mean</th>\n",
       "      <th>max</th>\n",
       "      <th>t+1</th>\n",
       "      <th>low</th>\n",
       "    </tr>\n",
       "  </thead>\n",
       "  <tbody>\n",
       "    <tr>\n",
       "      <th>1221</th>\n",
       "      <td>14360.0</td>\n",
       "      <td>14590.0</td>\n",
       "      <td>1043400.0</td>\n",
       "      <td>1.519199e+10</td>\n",
       "      <td>2012.0</td>\n",
       "      <td>1.0</td>\n",
       "      <td>11.0</td>\n",
       "      <td>13720.0</td>\n",
       "      <td>13990.0</td>\n",
       "      <td>13890.0</td>\n",
       "      <td>...</td>\n",
       "      <td>14390.0</td>\n",
       "      <td>14030.0</td>\n",
       "      <td>14390.000000</td>\n",
       "      <td>14750.0</td>\n",
       "      <td>14750.0</td>\n",
       "      <td>14280.0</td>\n",
       "      <td>33412.094926</td>\n",
       "      <td>60740.0</td>\n",
       "      <td>13860.0</td>\n",
       "      <td>14280</td>\n",
       "    </tr>\n",
       "    <tr>\n",
       "      <th>1222</th>\n",
       "      <td>13890.0</td>\n",
       "      <td>14390.0</td>\n",
       "      <td>952300.0</td>\n",
       "      <td>1.353341e+10</td>\n",
       "      <td>2012.0</td>\n",
       "      <td>1.0</td>\n",
       "      <td>10.0</td>\n",
       "      <td>14050.0</td>\n",
       "      <td>13720.0</td>\n",
       "      <td>13990.0</td>\n",
       "      <td>...</td>\n",
       "      <td>13850.0</td>\n",
       "      <td>13840.0</td>\n",
       "      <td>14086.666667</td>\n",
       "      <td>14390.0</td>\n",
       "      <td>14390.0</td>\n",
       "      <td>13860.0</td>\n",
       "      <td>33396.107931</td>\n",
       "      <td>60740.0</td>\n",
       "      <td>13790.0</td>\n",
       "      <td>13860</td>\n",
       "    </tr>\n",
       "    <tr>\n",
       "      <th>1223</th>\n",
       "      <td>NaN</td>\n",
       "      <td>NaN</td>\n",
       "      <td>NaN</td>\n",
       "      <td>NaN</td>\n",
       "      <td>NaN</td>\n",
       "      <td>NaN</td>\n",
       "      <td>NaN</td>\n",
       "      <td>NaN</td>\n",
       "      <td>NaN</td>\n",
       "      <td>NaN</td>\n",
       "      <td>...</td>\n",
       "      <td>NaN</td>\n",
       "      <td>NaN</td>\n",
       "      <td>NaN</td>\n",
       "      <td>NaN</td>\n",
       "      <td>NaN</td>\n",
       "      <td>13790.0</td>\n",
       "      <td>33380.089869</td>\n",
       "      <td>60740.0</td>\n",
       "      <td>13600.0</td>\n",
       "      <td>13790</td>\n",
       "    </tr>\n",
       "    <tr>\n",
       "      <th>1224</th>\n",
       "      <td>NaN</td>\n",
       "      <td>NaN</td>\n",
       "      <td>NaN</td>\n",
       "      <td>NaN</td>\n",
       "      <td>NaN</td>\n",
       "      <td>NaN</td>\n",
       "      <td>NaN</td>\n",
       "      <td>NaN</td>\n",
       "      <td>NaN</td>\n",
       "      <td>NaN</td>\n",
       "      <td>...</td>\n",
       "      <td>NaN</td>\n",
       "      <td>NaN</td>\n",
       "      <td>NaN</td>\n",
       "      <td>NaN</td>\n",
       "      <td>NaN</td>\n",
       "      <td>13600.0</td>\n",
       "      <td>33363.942857</td>\n",
       "      <td>60740.0</td>\n",
       "      <td>13700.0</td>\n",
       "      <td>13600</td>\n",
       "    </tr>\n",
       "    <tr>\n",
       "      <th>1225</th>\n",
       "      <td>NaN</td>\n",
       "      <td>NaN</td>\n",
       "      <td>NaN</td>\n",
       "      <td>NaN</td>\n",
       "      <td>NaN</td>\n",
       "      <td>NaN</td>\n",
       "      <td>NaN</td>\n",
       "      <td>NaN</td>\n",
       "      <td>NaN</td>\n",
       "      <td>NaN</td>\n",
       "      <td>...</td>\n",
       "      <td>NaN</td>\n",
       "      <td>NaN</td>\n",
       "      <td>NaN</td>\n",
       "      <td>NaN</td>\n",
       "      <td>NaN</td>\n",
       "      <td>13600.0</td>\n",
       "      <td>33347.903752</td>\n",
       "      <td>60740.0</td>\n",
       "      <td>NaN</td>\n",
       "      <td>13700</td>\n",
       "    </tr>\n",
       "  </tbody>\n",
       "</table>\n",
       "<p>5 rows × 22 columns</p>\n",
       "</div>"
      ],
      "text/plain": [
       "         Open    Close     Volume  Stock Trading    Year  Month   Day  \\\n",
       "1221  14360.0  14590.0  1043400.0   1.519199e+10  2012.0    1.0  11.0   \n",
       "1222  13890.0  14390.0   952300.0   1.353341e+10  2012.0    1.0  10.0   \n",
       "1223      NaN      NaN        NaN            NaN     NaN    NaN   NaN   \n",
       "1224      NaN      NaN        NaN            NaN     NaN    NaN   NaN   \n",
       "1225      NaN      NaN        NaN            NaN     NaN    NaN   NaN   \n",
       "\n",
       "        O_t-3    O_t-2    O_t-1  ...      C_t-1      min          mean  \\\n",
       "1221  13720.0  13990.0  13890.0  ...    14390.0  14030.0  14390.000000   \n",
       "1222  14050.0  13720.0  13990.0  ...    13850.0  13840.0  14086.666667   \n",
       "1223      NaN      NaN      NaN  ...        NaN      NaN           NaN   \n",
       "1224      NaN      NaN      NaN  ...        NaN      NaN           NaN   \n",
       "1225      NaN      NaN      NaN  ...        NaN      NaN           NaN   \n",
       "\n",
       "          max     high      min          mean      max      t+1    low  \n",
       "1221  14750.0  14750.0  14280.0  33412.094926  60740.0  13860.0  14280  \n",
       "1222  14390.0  14390.0  13860.0  33396.107931  60740.0  13790.0  13860  \n",
       "1223      NaN      NaN  13790.0  33380.089869  60740.0  13600.0  13790  \n",
       "1224      NaN      NaN  13600.0  33363.942857  60740.0  13700.0  13600  \n",
       "1225      NaN      NaN  13600.0  33347.903752  60740.0      NaN  13700  \n",
       "\n",
       "[5 rows x 22 columns]"
      ]
     },
     "execution_count": 62,
     "metadata": {},
     "output_type": "execute_result"
    }
   ],
   "source": [
    "train_final.tail()"
   ]
  },
  {
   "cell_type": "code",
   "execution_count": 63,
   "metadata": {
    "collapsed": true
   },
   "outputs": [],
   "source": [
    "#Replacing the null values with -1 if any.\n",
    "train_final.dropna(inplace = True)"
   ]
  },
  {
   "cell_type": "code",
   "execution_count": 64,
   "metadata": {},
   "outputs": [
    {
     "data": {
      "text/plain": [
       "(1221, 22)"
      ]
     },
     "execution_count": 64,
     "metadata": {},
     "output_type": "execute_result"
    }
   ],
   "source": [
    "#Complete final Train Data\n",
    "train_final.shape"
   ]
  },
  {
   "cell_type": "markdown",
   "metadata": {},
   "source": [
    "### Splitting of Data"
   ]
  },
  {
   "cell_type": "code",
   "execution_count": 67,
   "metadata": {
    "collapsed": true
   },
   "outputs": [],
   "source": [
    "from sklearn.model_selection import train_test_split"
   ]
  },
  {
   "cell_type": "code",
   "execution_count": 72,
   "metadata": {
    "collapsed": true
   },
   "outputs": [],
   "source": [
    "X_train,X_test,y_train,y_test = train_test_split(train_final.drop('Close',axis=1)\n",
    "                                                 ,train_final['Close'],random_state=42)"
   ]
  },
  {
   "cell_type": "code",
   "execution_count": 73,
   "metadata": {},
   "outputs": [
    {
     "data": {
      "text/html": [
       "<div>\n",
       "<style scoped>\n",
       "    .dataframe tbody tr th:only-of-type {\n",
       "        vertical-align: middle;\n",
       "    }\n",
       "\n",
       "    .dataframe tbody tr th {\n",
       "        vertical-align: top;\n",
       "    }\n",
       "\n",
       "    .dataframe thead th {\n",
       "        text-align: right;\n",
       "    }\n",
       "</style>\n",
       "<table border=\"1\" class=\"dataframe\">\n",
       "  <thead>\n",
       "    <tr style=\"text-align: right;\">\n",
       "      <th></th>\n",
       "      <th>Open</th>\n",
       "      <th>Volume</th>\n",
       "      <th>Stock Trading</th>\n",
       "      <th>Year</th>\n",
       "      <th>Month</th>\n",
       "      <th>Day</th>\n",
       "      <th>O_t-3</th>\n",
       "      <th>O_t-2</th>\n",
       "      <th>O_t-1</th>\n",
       "      <th>C_t-3</th>\n",
       "      <th>...</th>\n",
       "      <th>C_t-1</th>\n",
       "      <th>min</th>\n",
       "      <th>mean</th>\n",
       "      <th>max</th>\n",
       "      <th>high</th>\n",
       "      <th>min</th>\n",
       "      <th>mean</th>\n",
       "      <th>max</th>\n",
       "      <th>t+1</th>\n",
       "      <th>low</th>\n",
       "    </tr>\n",
       "  </thead>\n",
       "  <tbody>\n",
       "    <tr>\n",
       "      <th>138</th>\n",
       "      <td>30260.0</td>\n",
       "      <td>505800.0</td>\n",
       "      <td>1.519876e+10</td>\n",
       "      <td>2016.0</td>\n",
       "      <td>6.0</td>\n",
       "      <td>9.0</td>\n",
       "      <td>29420.0</td>\n",
       "      <td>30050.0</td>\n",
       "      <td>30030.0</td>\n",
       "      <td>30090.0</td>\n",
       "      <td>...</td>\n",
       "      <td>30450.0</td>\n",
       "      <td>30190.0</td>\n",
       "      <td>30380.000000</td>\n",
       "      <td>30500.0</td>\n",
       "      <td>30500.0</td>\n",
       "      <td>25305.0</td>\n",
       "      <td>34828.884892</td>\n",
       "      <td>43610.0</td>\n",
       "      <td>29810.0</td>\n",
       "      <td>29855</td>\n",
       "    </tr>\n",
       "    <tr>\n",
       "      <th>1011</th>\n",
       "      <td>17050.0</td>\n",
       "      <td>595300.0</td>\n",
       "      <td>1.012456e+10</td>\n",
       "      <td>2012.0</td>\n",
       "      <td>11.0</td>\n",
       "      <td>9.0</td>\n",
       "      <td>17420.0</td>\n",
       "      <td>17480.0</td>\n",
       "      <td>17220.0</td>\n",
       "      <td>17340.0</td>\n",
       "      <td>...</td>\n",
       "      <td>17140.0</td>\n",
       "      <td>17170.0</td>\n",
       "      <td>17346.666667</td>\n",
       "      <td>17530.0</td>\n",
       "      <td>17170.0</td>\n",
       "      <td>16620.0</td>\n",
       "      <td>36870.484190</td>\n",
       "      <td>60740.0</td>\n",
       "      <td>17040.0</td>\n",
       "      <td>16870</td>\n",
       "    </tr>\n",
       "    <tr>\n",
       "      <th>961</th>\n",
       "      <td>22690.0</td>\n",
       "      <td>480700.0</td>\n",
       "      <td>1.102247e+10</td>\n",
       "      <td>2013.0</td>\n",
       "      <td>1.0</td>\n",
       "      <td>29.0</td>\n",
       "      <td>22470.0</td>\n",
       "      <td>23050.0</td>\n",
       "      <td>23380.0</td>\n",
       "      <td>22550.0</td>\n",
       "      <td>...</td>\n",
       "      <td>22940.0</td>\n",
       "      <td>23130.0</td>\n",
       "      <td>23263.333333</td>\n",
       "      <td>23450.0</td>\n",
       "      <td>23130.0</td>\n",
       "      <td>22650.0</td>\n",
       "      <td>37746.694387</td>\n",
       "      <td>60740.0</td>\n",
       "      <td>22900.0</td>\n",
       "      <td>22650</td>\n",
       "    </tr>\n",
       "    <tr>\n",
       "      <th>5</th>\n",
       "      <td>43660.0</td>\n",
       "      <td>381600.0</td>\n",
       "      <td>1.658649e+10</td>\n",
       "      <td>2016.0</td>\n",
       "      <td>12.0</td>\n",
       "      <td>22.0</td>\n",
       "      <td>42790.0</td>\n",
       "      <td>42910.0</td>\n",
       "      <td>43900.0</td>\n",
       "      <td>43130.0</td>\n",
       "      <td>...</td>\n",
       "      <td>44000.0</td>\n",
       "      <td>43630.0</td>\n",
       "      <td>43946.666667</td>\n",
       "      <td>44370.0</td>\n",
       "      <td>43840.0</td>\n",
       "      <td>41700.0</td>\n",
       "      <td>42821.666667</td>\n",
       "      <td>43270.0</td>\n",
       "      <td>43610.0</td>\n",
       "      <td>43190</td>\n",
       "    </tr>\n",
       "    <tr>\n",
       "      <th>715</th>\n",
       "      <td>38670.0</td>\n",
       "      <td>939400.0</td>\n",
       "      <td>3.614092e+10</td>\n",
       "      <td>2014.0</td>\n",
       "      <td>1.0</td>\n",
       "      <td>30.0</td>\n",
       "      <td>37150.0</td>\n",
       "      <td>37895.0</td>\n",
       "      <td>38830.0</td>\n",
       "      <td>37600.0</td>\n",
       "      <td>...</td>\n",
       "      <td>39360.0</td>\n",
       "      <td>38130.0</td>\n",
       "      <td>38773.333333</td>\n",
       "      <td>39375.0</td>\n",
       "      <td>38815.0</td>\n",
       "      <td>25305.0</td>\n",
       "      <td>39266.662011</td>\n",
       "      <td>60740.0</td>\n",
       "      <td>38700.0</td>\n",
       "      <td>37980</td>\n",
       "    </tr>\n",
       "  </tbody>\n",
       "</table>\n",
       "<p>5 rows × 21 columns</p>\n",
       "</div>"
      ],
      "text/plain": [
       "         Open    Volume  Stock Trading    Year  Month   Day    O_t-3    O_t-2  \\\n",
       "138   30260.0  505800.0   1.519876e+10  2016.0    6.0   9.0  29420.0  30050.0   \n",
       "1011  17050.0  595300.0   1.012456e+10  2012.0   11.0   9.0  17420.0  17480.0   \n",
       "961   22690.0  480700.0   1.102247e+10  2013.0    1.0  29.0  22470.0  23050.0   \n",
       "5     43660.0  381600.0   1.658649e+10  2016.0   12.0  22.0  42790.0  42910.0   \n",
       "715   38670.0  939400.0   3.614092e+10  2014.0    1.0  30.0  37150.0  37895.0   \n",
       "\n",
       "        O_t-1    C_t-3  ...      C_t-1      min          mean      max  \\\n",
       "138   30030.0  30090.0  ...    30450.0  30190.0  30380.000000  30500.0   \n",
       "1011  17220.0  17340.0  ...    17140.0  17170.0  17346.666667  17530.0   \n",
       "961   23380.0  22550.0  ...    22940.0  23130.0  23263.333333  23450.0   \n",
       "5     43900.0  43130.0  ...    44000.0  43630.0  43946.666667  44370.0   \n",
       "715   38830.0  37600.0  ...    39360.0  38130.0  38773.333333  39375.0   \n",
       "\n",
       "         high      min          mean      max      t+1    low  \n",
       "138   30500.0  25305.0  34828.884892  43610.0  29810.0  29855  \n",
       "1011  17170.0  16620.0  36870.484190  60740.0  17040.0  16870  \n",
       "961   23130.0  22650.0  37746.694387  60740.0  22900.0  22650  \n",
       "5     43840.0  41700.0  42821.666667  43270.0  43610.0  43190  \n",
       "715   38815.0  25305.0  39266.662011  60740.0  38700.0  37980  \n",
       "\n",
       "[5 rows x 21 columns]"
      ]
     },
     "execution_count": 73,
     "metadata": {},
     "output_type": "execute_result"
    }
   ],
   "source": [
    "X_train.head()"
   ]
  },
  {
   "cell_type": "markdown",
   "metadata": {},
   "source": [
    "### Applying Regressor Model"
   ]
  },
  {
   "cell_type": "code",
   "execution_count": 74,
   "metadata": {
    "collapsed": true
   },
   "outputs": [],
   "source": [
    "model=RandomForestRegressor()"
   ]
  },
  {
   "cell_type": "code",
   "execution_count": 75,
   "metadata": {},
   "outputs": [
    {
     "data": {
      "text/plain": [
       "RandomForestRegressor(bootstrap=True, criterion='mse', max_depth=None,\n",
       "           max_features='auto', max_leaf_nodes=None,\n",
       "           min_impurity_decrease=0.0, min_impurity_split=None,\n",
       "           min_samples_leaf=1, min_samples_split=2,\n",
       "           min_weight_fraction_leaf=0.0, n_estimators=10, n_jobs=1,\n",
       "           oob_score=False, random_state=None, verbose=0, warm_start=False)"
      ]
     },
     "execution_count": 75,
     "metadata": {},
     "output_type": "execute_result"
    }
   ],
   "source": [
    "model.fit(X_train,y_train)"
   ]
  },
  {
   "cell_type": "code",
   "execution_count": 77,
   "metadata": {
    "collapsed": true
   },
   "outputs": [],
   "source": [
    "predict=model.predict(X_test)"
   ]
  },
  {
   "cell_type": "code",
   "execution_count": 85,
   "metadata": {
    "collapsed": true
   },
   "outputs": [],
   "source": [
    "imp_list = list(model.feature_importances_)"
   ]
  },
  {
   "cell_type": "code",
   "execution_count": 86,
   "metadata": {
    "collapsed": true
   },
   "outputs": [],
   "source": [
    "col_lis = list(X_test.columns)"
   ]
  },
  {
   "cell_type": "code",
   "execution_count": 100,
   "metadata": {
    "collapsed": true
   },
   "outputs": [],
   "source": [
    "feature_importances = {i[0]:\"{0:.4f}\".format(i[1]) for i in list(zip(col_lis,imp_list))}"
   ]
  },
  {
   "cell_type": "code",
   "execution_count": 101,
   "metadata": {},
   "outputs": [
    {
     "data": {
      "text/plain": [
       "{'C_t-1': '0.0008',\n",
       " 'C_t-2': '0.0001',\n",
       " 'C_t-3': '0.0001',\n",
       " 'Day': '0.0000',\n",
       " 'Month': '0.0000',\n",
       " 'O_t-1': '0.0083',\n",
       " 'O_t-2': '0.0033',\n",
       " 'O_t-3': '0.0001',\n",
       " 'Open': '0.0022',\n",
       " 'Stock Trading': '0.0000',\n",
       " 'Volume': '0.0000',\n",
       " 'Year': '0.0000',\n",
       " 'high': '0.5258',\n",
       " 'low': '0.4311',\n",
       " 'max': '0.0000',\n",
       " 'mean': '0.0000',\n",
       " 'min': '0.0042',\n",
       " 't+1': '0.0011'}"
      ]
     },
     "execution_count": 101,
     "metadata": {},
     "output_type": "execute_result"
    }
   ],
   "source": [
    "feature_importances"
   ]
  },
  {
   "cell_type": "markdown",
   "metadata": {},
   "source": [
    "#### Measuring the Score. (Evaluation Metrics)"
   ]
  },
  {
   "cell_type": "code",
   "execution_count": 102,
   "metadata": {},
   "outputs": [
    {
     "name": "stdout",
     "output_type": "stream",
     "text": [
      "MAE: 303.039215686\n",
      "MSE: 195428.444444\n",
      "RMSE: 442.072894944\n"
     ]
    }
   ],
   "source": [
    "from sklearn import metrics\n",
    "print('MAE:', metrics.mean_absolute_error(y_test, predict))\n",
    "print('MSE:', metrics.mean_squared_error(y_test, predict))\n",
    "print('RMSE:', np.sqrt(metrics.mean_squared_error(y_test, predict)))"
   ]
  },
  {
   "cell_type": "code",
   "execution_count": 104,
   "metadata": {},
   "outputs": [
    {
     "name": "stdout",
     "output_type": "stream",
     "text": [
      "[ 0.98884707  0.99646072  0.99736723]\n"
     ]
    }
   ],
   "source": [
    "from sklearn.cross_validation import cross_val_score\n",
    "\n",
    "print(cross_val_score(model, X_test, y_test,cv=3))"
   ]
  }
 ],
 "metadata": {
  "kernelspec": {
   "display_name": "Python 3",
   "language": "python",
   "name": "python3"
  },
  "language_info": {
   "codemirror_mode": {
    "name": "ipython",
    "version": 3
   },
   "file_extension": ".py",
   "mimetype": "text/x-python",
   "name": "python",
   "nbconvert_exporter": "python",
   "pygments_lexer": "ipython3",
   "version": "3.6.3"
  }
 },
 "nbformat": 4,
 "nbformat_minor": 2
}
